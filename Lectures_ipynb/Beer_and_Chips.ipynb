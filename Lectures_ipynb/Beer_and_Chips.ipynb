{
 "cells": [
  {
   "cell_type": "markdown",
   "metadata": {},
   "source": [
    "## Warmup Exercise for multiple Regression"
   ]
  },
  {
   "cell_type": "code",
   "execution_count": 11,
   "metadata": {},
   "outputs": [],
   "source": [
    "import pandas as pd\n",
    "import numpy as np\n",
    "import seaborn as sns\n",
    "import matplotlib.pyplot as plt\n",
    "import sklearn.linear_model as skl_lm\n",
    "from sklearn.metrics import mean_squared_error, r2_score\n",
    "import statsmodels.api as sm\n",
    "import statsmodels.formula.api as smf"
   ]
  },
  {
   "cell_type": "markdown",
   "metadata": {},
   "source": [
    "## Beer & Chips\n",
    "\n",
    "### Generating Model I\n",
    "\n",
    "$$\n",
    "\\begin{aligned}\n",
    "\\text{Headache}  &= 0.5 \\cdot \\text{Beers} +   0.1 \\cdot \\text{Chips} + \\text{otherFactors} \\\\\n",
    "y_i &= \\beta_0 + \\beta_1 \\cdot x_{i,1} + \\beta_2 \\cdot x_{i,2}+ u_i\n",
    "\\end{aligned}\n",
    "$$\n",
    "\n",
    "-----------------------\n",
    "\n",
    "$$\n",
    "\\begin{aligned}\n",
    "\\text{Beers}_i & \\sim \\text{Pois}(3)/2 \\\\\n",
    "\\text{Chips}_i &= 15 \\cdot \\text{Beers}_i + v_i  \\\\\n",
    "u_i & \\sim N(0,0.5), v_i \\sim N(0,2.5)\n",
    "\\end{aligned}\n",
    "$$\n",
    "\n",
    "1. Fit the following two simple linear regressions (Try both sklearn and statsmodels)\n",
    "    * $\\hat{y_i} = \\hat{\\beta}_0 + \\hat{\\beta}_1 \\cdot x_{i,1}$\n",
    "    * $\\hat{y_i} = \\hat{\\beta}_0  + \\hat{\\beta}_2 \\cdot x_{i,2}$\n",
    "   \n",
    "2. Think about what happens when you set the variations to zero, one by one respectively: $u_i \\sim N(0,0), v_i \\sim N(0,0)$\n",
    "\n",
    "3. Fit a multiple linear regression model and compare the coefficients:\n",
    "    * $\\hat{y_i} = \\hat{\\beta}_0 + \\hat{\\beta}_1 \\cdot x_{i,1} + \\hat{\\beta}_2 \\cdot x_{i,2}$"
   ]
  },
  {
   "cell_type": "code",
   "execution_count": 3,
   "metadata": {},
   "outputs": [
    {
     "data": {
      "text/plain": [
       "array([1, 2, 1, 4, 2, 1, 1, 2, 1, 4])"
      ]
     },
     "execution_count": 3,
     "metadata": {},
     "output_type": "execute_result"
    }
   ],
   "source": [
    "#get used to generating random numbers from different distributions:\n",
    "\n",
    "from scipy.stats import poisson\n",
    "from scipy.stats import norm\n",
    "\n",
    "\n",
    "norm.rvs(scale=2,size=10)\n",
    "poisson.rvs(2, size=10)"
   ]
  },
  {
   "cell_type": "code",
   "execution_count": 9,
   "metadata": {},
   "outputs": [],
   "source": [
    "N=100\n",
    "np.random.seed(123)\n",
    "NumBeers = poisson.rvs(3, size=N)/2\n",
    "\n",
    "v = norm.rvs(scale=2.5,size=N)\n",
    "NumChips = 15*NumBeers + v\n",
    "NumChips[NumChips<0] = 0\n",
    "\n",
    "u=norm.rvs(scale=0.5,size=N)\n",
    "Headache = 0.5*NumBeers + 0.1*NumChips  + u\n",
    "Headache[Headache<0] = 0\n",
    "\n",
    "BeerChips_df = pd.DataFrame({'Beers':NumBeers, 'Chips':NumChips, 'Headache':Headache})\n",
    "\n"
   ]
  },
  {
   "cell_type": "code",
   "execution_count": 10,
   "metadata": {},
   "outputs": [
    {
     "data": {
      "image/png": "[encoded data removed]",
      "text/plain": [
       "<Figure size 432x288 with 1 Axes>"
      ]
     },
     "metadata": {
      "needs_background": "light"
     },
     "output_type": "display_data"
    }
   ],
   "source": [
    "plt.plot(NumBeers, Headache, \"x\");"
   ]
  },
  {
   "cell_type": "code",
   "execution_count": null,
   "metadata": {},
   "outputs": [],
   "source": []
  },
  {
   "cell_type": "markdown",
   "metadata": {},
   "source": [
    "### Generating Model II\n",
    "\n",
    "$$\n",
    "\\begin{aligned}\n",
    "\\text{Headache}  &= 0.5 \\cdot \\text{Beers} +   0.1 \\cdot \\text{Chips} + 0.05 \\cdot  \\text{Interaction(Chips,Beers)} + \\text{otherFactors} \\\\\n",
    "y_i &= \\beta_0 + \\beta_1 \\cdot x_{i,1} + \\beta_2 \\cdot x_{i,2} + \\beta_3 \\cdot x_{i,1} \\cdot x_{i,2} + u_i\n",
    "\\end{aligned}\n",
    "$$\n",
    "\n",
    "### Generating Model III\n",
    "\n",
    "$$\n",
    "\\begin{aligned}\n",
    "\\text{Headache}  &= 0.1 \\cdot \\text{Beers}^2 +   0.01 \\cdot \\text{Chips}^2 + 0.05 \\cdot  \\text{Interaction(Chips,Beers)} + \\text{otherFactors} \\\\\n",
    "y_i &= \\beta_0 + \\beta_1 \\cdot x_{i,1}^2 + \\beta_2 \\cdot x_{i,2}^2 + \\beta_3 \\cdot x_{i,1} \\cdot x_{i,2} + u_i\n",
    "\\end{aligned}\n",
    "$$\n"
   ]
  }
 ],
 "metadata": {
  "kernelspec": {
   "display_name": "Python 3.9.0 64-bit",
   "language": "python",
   "name": "python3"
  },
  "language_info": {
   "codemirror_mode": {
    "name": "ipython",
    "version": 3
   },
   "file_extension": ".py",
   "mimetype": "text/x-python",
   "name": "python",
   "nbconvert_exporter": "python",
   "pygments_lexer": "ipython3",
   "version": "3.9.0"
  },
  "orig_nbformat": 4,
  "vscode": {
   "interpreter": {
    "hash": "949777d72b0d2535278d3dc13498b2535136f6dfe0678499012e853ee9abcab1"
   }
  }
 },
 "nbformat": 4,
 "nbformat_minor": 2
}
