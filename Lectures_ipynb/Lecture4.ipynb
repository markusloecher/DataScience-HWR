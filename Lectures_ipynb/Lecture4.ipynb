{
 "cells": [
  {
   "cell_type": "markdown",
   "metadata": {},
   "source": [
    "# Class 4\n",
    "\n",
    "1. Permutation Tests\n",
    "2. Binary Processes\n",
    "    * AB Tests\n",
    "    * Binomial Distribution"
   ]
  },
  {
   "cell_type": "markdown",
   "metadata": {},
   "source": [
    "**Importing Our Functions**"
   ]
  },
  {
   "cell_type": "code",
   "execution_count": 2,
   "metadata": {
    "scrolled": false
   },
   "outputs": [
    {
     "data": {
      "text/plain": [
       "'%.3f'"
      ]
     },
     "execution_count": 2,
     "metadata": {},
     "output_type": "execute_result"
    }
   ],
   "source": [
    "%run ../ourFunctions.py\n",
    "%precision 3"
   ]
  },
  {
   "cell_type": "code",
   "execution_count": 1,
   "metadata": {},
   "outputs": [],
   "source": [
    "# %load ../ourFunctions.py\n",
    "import numpy as np\n",
    "import matplotlib as matplt\n",
    "import matplotlib.pyplot as plt\n",
    "import pandas as pd\n",
    "import seaborn as sns\n",
    "from scipy.stats import norm\n",
    "from scipy import stats\n",
    "\n",
    "from numpy import random \n",
    "#random.seed(42)\n",
    "\n",
    "def ecdf(data):\n",
    "    \"\"\"Compute ECDF for a one-dimensional array of measurements.\"\"\"\n",
    "\n",
    "    # Number of data points: n\n",
    "    n = len(data)\n",
    "\n",
    "    # x-data for the ECDF: x\n",
    "    x = np.sort(data)\n",
    "\n",
    "    # y-data for the ECDF: y\n",
    "    y = np.arange(1, n+1) / n\n",
    "\n",
    "    return x, y\n",
    "\n",
    "def bootstrap_replicate_1d(data, func):\n",
    "    return func(np.random.choice(data, size=len(data)))\n",
    "\n",
    "def draw_bs_reps(data, func, size=1):\n",
    "    \"\"\"Draw bootstrap replicates.\"\"\"\n",
    "\n",
    "    # Initialize array of replicates: bs_replicates\n",
    "    bs_replicates = np.empty(size)\n",
    "\n",
    "    # Generate replicates\n",
    "    for i in range(size):\n",
    "        bs_replicates[i] = bootstrap_replicate_1d(data, func)\n",
    "\n",
    "    return bs_replicates\n",
    "\n",
    "def bs_2sample_test(xA, xB, func, direction =(\"two-sided\",\"left\", \"right\")[0], size=1000):\n",
    "    # Compute \"pooled\" mean \n",
    "    mean_overall = np.mean([xA,xB])\n",
    "    \n",
    "    empirical_diff_means = np.mean(xA)-np.mean(xB)\n",
    "\n",
    "    # Generate shifted arrays\n",
    "    xA_underNull = xA - np.mean(xA) + mean_overall\n",
    "    xB_underNull = xB - np.mean(xB) + mean_overall\n",
    "\n",
    "    # Compute 10,000 bootstrap replicates from shifted arrays\n",
    "    bs_replicates_m = draw_bs_reps(xA_underNull, np.mean, size=size)\n",
    "    bs_replicates_f = draw_bs_reps(xB_underNull, np.mean, size=size)\n",
    "\n",
    "    # Get replicates of difference of means: bs_replicates\n",
    "    bs_replicates = bs_replicates_m - bs_replicates_f\n",
    "\n",
    "    # Compute and print p-value: p\n",
    "    if direction == \"two-sided\":        \n",
    "        p = np.sum(np.abs(bs_replicates) >= np.abs(empirical_diff_means)) / len(bs_replicates)\n",
    "    if direction == \"left\":        \n",
    "        p = np.sum(bs_replicates <= empirical_diff_means) / len(bs_replicates)\n",
    "    if direction == \"right\":        \n",
    "        p = np.sum(bs_replicates >= empirical_diff_means) / len(bs_replicates)\n",
    "    print('p-value =', p)\n",
    "    \n",
    "    return bs_replicates\n",
    "\n",
    "def plot2ECDFs(x1, x2,leg=('male', 'female'),xlab='birth weight(g)',ylab='ECDF',title=''):\n",
    "    # Compute ECDF for sample size 40: m_40, f_40\n",
    "    mx_40, my_40 = ecdf(x1)\n",
    "    fx_40, fy_40 = ecdf(x2)\n",
    "\n",
    "    # Plot all ECDFs on the same plot\n",
    "    _ = plt.plot(mx_40, my_40, marker = '.', linestyle = 'none')\n",
    "    _ = plt.plot(fx_40, fy_40, marker = '.', linestyle = 'none')\n",
    "\n",
    "    # Make nice margins\n",
    "    plt.margins(0.02)\n",
    "\n",
    "    # Annotate the plot\n",
    "    plt.legend(leg, loc='lower right')\n",
    "    _ = plt.xlabel(xlab)\n",
    "    _ = plt.ylabel(ylab)\n",
    "    _ = plt.title(title)\n",
    "\n",
    "    # Display the plot\n",
    "    plt.grid()\n",
    "    plt.show()\n",
    "\n",
    "def mean_density_comparison(M=500, n=10):\n",
    "    \n",
    "    #Generate an gender iteration array\n",
    "    gender_iter = ['male', 'female']\n",
    "    \n",
    "    #Create an empty DataFrame with 'gender' and 'dbirwt' column\n",
    "    columns = ['gender', 'dbirwt']\n",
    "    df_new = pd.DataFrame(columns=columns)\n",
    "    \n",
    "    #Create an empty array to store the standard deviation of the differnt gender 'male' = std_dev[0], 'female' = std_dev[1]\n",
    "    std_dev = np.empty(2)\n",
    "    \n",
    "    #Iterate over gender and create a specific data subset\n",
    "    for ind,v in enumerate(gender_iter):\n",
    "        subset = df_cleaned[df_cleaned.gender == v]\n",
    "        \n",
    "        #create M random sample means of n samples and add it to df_new\n",
    "        for i in range(M):\n",
    "            rand_samples = np.random.choice(subset.dbirwt, n)\n",
    "            x = np.mean(rand_samples)\n",
    "            df_new.loc[len(df_new)+1] = [v, x]\n",
    "        \n",
    "        #plot male and female data and calculate the standard daviation of the data\n",
    "        plot_data = df_new[df_new.gender == v]\n",
    "        std_dev[ind] = np.std(plot_data['dbirwt'])  \n",
    "        \n",
    "        plot_data.dbirwt.plot.density()\n",
    "        plt.xlabel('dbirwt')\n",
    "        plt.legend(gender_iter)\n",
    "\t\t#plt.grid()\n",
    "\t\t#plt.title(\"n=\" + str(n))\n",
    "\t\t\n",
    "    #return the sample mean data\n",
    "    return df_new\n",
    "    #return the standard deviation of ['male', 'female']\n",
    "    #return std_dev\n",
    "\n",
    "# Test the function\n",
    "# SM40 = mean_density_comparison(M=100, n=40)\n",
    "# plt.figure()\n",
    "# SM640 = mean_density_comparison(M=100, n=640)\n",
    "\n",
    "# # Permutation tests\n",
    "\n",
    "def permutation_sample(data1, data2):\n",
    "    \"\"\"Generate a permutation sample from two data sets.\"\"\"\n",
    "\n",
    "    # Concatenate the data sets: data\n",
    "    data = np.concatenate((data1, data2))\n",
    "\n",
    "    # Permute the concatenated array: permuted_data\n",
    "    permuted_data = np.random.permutation(data)\n",
    "\n",
    "    # Split the permuted array into two: perm_sample_1, perm_sample_2\n",
    "    perm_sample_1 = permuted_data[:len(data1)]\n",
    "    perm_sample_2 = permuted_data[len(data1):]\n",
    "\n",
    "    return perm_sample_1, perm_sample_2\n",
    "\n",
    "def draw_perm_reps(data_1, data_2, func, size=1):\n",
    "    \"\"\"Generate multiple permutation replicates.\"\"\"\n",
    "\n",
    "    # Initialize array of replicates: perm_replicates\n",
    "    perm_replicates = np.empty(size)\n",
    "\n",
    "    for i in range(size):\n",
    "        # Generate permutation sample\n",
    "        perm_sample_1, perm_sample_2 = permutation_sample(data_1, data_2)\n",
    "\n",
    "        # Compute the test statistic\n",
    "        perm_replicates[i] = func(perm_sample_1, perm_sample_2)\n",
    "\n",
    "    return perm_replicates\n",
    "\n",
    "def diff_of_means(data_1, data_2):\n",
    "    \"\"\"Difference in means of two arrays.\"\"\"\n",
    "\n",
    "    # The difference of means of data_1, data_2: diff\n",
    "    diff = np.mean(data_1) - np.mean(data_2)\n",
    "\n",
    "    return diff\n"
   ]
  },
  {
   "cell_type": "markdown",
   "metadata": {},
   "source": [
    "-------\n",
    "## Permutation 2-sample test\n",
    "\n",
    "We have used the bootstrap to compare two sets of data, both of which are samples. In particular, we can test two-sample hypotheses such as  \n",
    "\n",
    "$H_0: \\mu_m = \\mu_f, H_A: \\mu_m \\neq \\mu_f$\n",
    "\n",
    "or the one-sided versions:\n",
    "\n",
    "$H_0: \\mu_m = \\mu_f, H_A: \\mu_m > \\mu_f$\n",
    "\n",
    "$H_0: \\mu_m = \\mu_f, H_A: \\mu_m < \\mu_f$\n",
    "\n",
    "\n",
    "Another way to compare 2 distributions (in some ways much more straightforward than the bootstrap) is **permutation sampling**. It directly simulates the hypothesis that two variables have identical probability distributions.\n",
    "\n",
    "A permutation sample of two arrays having respectively $n_1$ and $n_2$ entries is constructed by concatenating the arrays together, scrambling the contents of the concatenated array, and then taking the first $n_1$ entries as the permutation sample of the first array and the last $n_2$ entries as the permutation sample of the second array.\n",
    "\n",
    "At DataCamp the first example offers a nice visualization of this process:\n",
    "\n",
    "<div>\n",
    "<img src=\"../figures/PennsylvaniaOhioDataCamp.png\" width=\"400\"/>\n",
    "</div>\n",
    "\n",
    "Complete the code below to run a permutation test:"
   ]
  },
  {
   "cell_type": "code",
   "execution_count": 3,
   "metadata": {},
   "outputs": [],
   "source": [
    "#def permutation_sample(data1, data2):\n",
    "#    \"\"\"Generate a permutation sample from two data sets.\"\"\"\n",
    "#\n",
    "#    # Concatenate the data sets: data\n",
    "#    data = np.concatenate((data1, data2))\n",
    "#\n",
    "#    # Permute the concatenated array: permuted_data\n",
    "#    permuted_data = np.random.permutation(data)\n",
    "#\n",
    "#    # Split the permuted array into two: perm_sample_1, perm_sample_2\n",
    "#    perm_sample_1 = permuted_data[:len(data1)]\n",
    "#    perm_sample_2 = permuted_data[len(data1):]\n",
    "#\n",
    "#    return perm_sample_1, perm_sample_2\n",
    "#\n",
    "#def draw_perm_reps(data_1, data_2, func, size=1):\n",
    "#    \"\"\"Generate multiple permutation replicates.\"\"\"\n",
    "#\n",
    "#    # Initialize array of replicates: perm_replicates\n",
    "#    np.random.seed(123)\n",
    "#    perm_replicates = np.empty(size)\n",
    "#\n",
    "#    for i in range(size):\n",
    "#        # Generate permutation sample\n",
    "#        perm_sample_1, perm_sample_2 = permutation_sample(data_1, data_2)\n",
    "#\n",
    "#    # Compute the test statistic\n",
    "#    perm_replicates[i] = func(perm_sample_1, perm_sample_2)\n",
    "#    #perm_replicates[i] = np.mean(data_1) - np.mean(data_2)\n",
    "#\n",
    "#    return perm_replicates\n",
    "#\n",
    "#def diff_of_means(data_1, data_2):\n",
    "#    \"\"\"Difference in means of two arrays.\"\"\"\n",
    "#\n",
    "#    # The difference of means of data_1, data_2: diff\n",
    "#    diff = np.mean(data_1) - np.mean(data_2)\n",
    "#\n",
    "#    return diff"
   ]
  },
  {
   "cell_type": "markdown",
   "metadata": {},
   "source": [
    "------\n",
    "**Let us apply our first permutation sampling on the Titanic data. (First, we explore the data a bit)**"
   ]
  },
  {
   "cell_type": "code",
   "execution_count": 3,
   "metadata": {},
   "outputs": [
    {
     "data": {
      "text/html": [
       "<div>\n",
       "<style scoped>\n",
       "    .dataframe tbody tr th:only-of-type {\n",
       "        vertical-align: middle;\n",
       "    }\n",
       "\n",
       "    .dataframe tbody tr th {\n",
       "        vertical-align: top;\n",
       "    }\n",
       "\n",
       "    .dataframe thead th {\n",
       "        text-align: right;\n",
       "    }\n",
       "</style>\n",
       "<table border=\"1\" class=\"dataframe\">\n",
       "  <thead>\n",
       "    <tr style=\"text-align: right;\">\n",
       "      <th></th>\n",
       "      <th>survived</th>\n",
       "      <th>pclass</th>\n",
       "      <th>sex</th>\n",
       "      <th>age</th>\n",
       "      <th>sibsp</th>\n",
       "      <th>parch</th>\n",
       "      <th>fare</th>\n",
       "      <th>embarked</th>\n",
       "      <th>class</th>\n",
       "      <th>who</th>\n",
       "      <th>adult_male</th>\n",
       "      <th>deck</th>\n",
       "      <th>embark_town</th>\n",
       "      <th>alive</th>\n",
       "      <th>alone</th>\n",
       "    </tr>\n",
       "  </thead>\n",
       "  <tbody>\n",
       "    <tr>\n",
       "      <th>0</th>\n",
       "      <td>0</td>\n",
       "      <td>3</td>\n",
       "      <td>male</td>\n",
       "      <td>22.0</td>\n",
       "      <td>1</td>\n",
       "      <td>0</td>\n",
       "      <td>7.2500</td>\n",
       "      <td>S</td>\n",
       "      <td>Third</td>\n",
       "      <td>man</td>\n",
       "      <td>True</td>\n",
       "      <td>NaN</td>\n",
       "      <td>Southampton</td>\n",
       "      <td>no</td>\n",
       "      <td>False</td>\n",
       "    </tr>\n",
       "    <tr>\n",
       "      <th>1</th>\n",
       "      <td>1</td>\n",
       "      <td>1</td>\n",
       "      <td>female</td>\n",
       "      <td>38.0</td>\n",
       "      <td>1</td>\n",
       "      <td>0</td>\n",
       "      <td>71.2833</td>\n",
       "      <td>C</td>\n",
       "      <td>First</td>\n",
       "      <td>woman</td>\n",
       "      <td>False</td>\n",
       "      <td>C</td>\n",
       "      <td>Cherbourg</td>\n",
       "      <td>yes</td>\n",
       "      <td>False</td>\n",
       "    </tr>\n",
       "    <tr>\n",
       "      <th>2</th>\n",
       "      <td>1</td>\n",
       "      <td>3</td>\n",
       "      <td>female</td>\n",
       "      <td>26.0</td>\n",
       "      <td>0</td>\n",
       "      <td>0</td>\n",
       "      <td>7.9250</td>\n",
       "      <td>S</td>\n",
       "      <td>Third</td>\n",
       "      <td>woman</td>\n",
       "      <td>False</td>\n",
       "      <td>NaN</td>\n",
       "      <td>Southampton</td>\n",
       "      <td>yes</td>\n",
       "      <td>True</td>\n",
       "    </tr>\n",
       "    <tr>\n",
       "      <th>3</th>\n",
       "      <td>1</td>\n",
       "      <td>1</td>\n",
       "      <td>female</td>\n",
       "      <td>35.0</td>\n",
       "      <td>1</td>\n",
       "      <td>0</td>\n",
       "      <td>53.1000</td>\n",
       "      <td>S</td>\n",
       "      <td>First</td>\n",
       "      <td>woman</td>\n",
       "      <td>False</td>\n",
       "      <td>C</td>\n",
       "      <td>Southampton</td>\n",
       "      <td>yes</td>\n",
       "      <td>False</td>\n",
       "    </tr>\n",
       "    <tr>\n",
       "      <th>4</th>\n",
       "      <td>0</td>\n",
       "      <td>3</td>\n",
       "      <td>male</td>\n",
       "      <td>35.0</td>\n",
       "      <td>0</td>\n",
       "      <td>0</td>\n",
       "      <td>8.0500</td>\n",
       "      <td>S</td>\n",
       "      <td>Third</td>\n",
       "      <td>man</td>\n",
       "      <td>True</td>\n",
       "      <td>NaN</td>\n",
       "      <td>Southampton</td>\n",
       "      <td>no</td>\n",
       "      <td>True</td>\n",
       "    </tr>\n",
       "  </tbody>\n",
       "</table>\n",
       "</div>"
      ],
      "text/plain": [
       "   survived  pclass     sex   age  sibsp  parch     fare embarked  class  \\\n",
       "0         0       3    male  22.0      1      0   7.2500        S  Third   \n",
       "1         1       1  female  38.0      1      0  71.2833        C  First   \n",
       "2         1       3  female  26.0      0      0   7.9250        S  Third   \n",
       "3         1       1  female  35.0      1      0  53.1000        S  First   \n",
       "4         0       3    male  35.0      0      0   8.0500        S  Third   \n",
       "\n",
       "     who  adult_male deck  embark_town alive  alone  \n",
       "0    man        True  NaN  Southampton    no  False  \n",
       "1  woman       False    C    Cherbourg   yes  False  \n",
       "2  woman       False  NaN  Southampton   yes   True  \n",
       "3  woman       False    C  Southampton   yes  False  \n",
       "4    man        True  NaN  Southampton    no   True  "
      ]
     },
     "execution_count": 3,
     "metadata": {},
     "output_type": "execute_result"
    }
   ],
   "source": [
    "titanic = sns.load_dataset('titanic')\n",
    "titanic.head()"
   ]
  },
  {
   "cell_type": "code",
   "execution_count": 5,
   "metadata": {},
   "outputs": [
    {
     "data": {
      "text/plain": [
       "pclass  survived\n",
       "1       0            80\n",
       "        1           136\n",
       "2       0            97\n",
       "        1            87\n",
       "3       0           372\n",
       "        1           119\n",
       "dtype: int64"
      ]
     },
     "execution_count": 5,
     "metadata": {},
     "output_type": "execute_result"
    }
   ],
   "source": [
    "PclassSurv = titanic.groupby(['pclass', 'survived'])\n",
    "PclassSurv.size()"
   ]
  },
  {
   "cell_type": "code",
   "execution_count": 6,
   "metadata": {
    "scrolled": true
   },
   "outputs": [
    {
     "data": {
      "text/html": [
       "<div>\n",
       "<style scoped>\n",
       "    .dataframe tbody tr th:only-of-type {\n",
       "        vertical-align: middle;\n",
       "    }\n",
       "\n",
       "    .dataframe tbody tr th {\n",
       "        vertical-align: top;\n",
       "    }\n",
       "\n",
       "    .dataframe thead th {\n",
       "        text-align: right;\n",
       "    }\n",
       "</style>\n",
       "<table border=\"1\" class=\"dataframe\">\n",
       "  <thead>\n",
       "    <tr style=\"text-align: right;\">\n",
       "      <th>survived</th>\n",
       "      <th>0</th>\n",
       "      <th>1</th>\n",
       "      <th>All</th>\n",
       "    </tr>\n",
       "    <tr>\n",
       "      <th>pclass</th>\n",
       "      <th></th>\n",
       "      <th></th>\n",
       "      <th></th>\n",
       "    </tr>\n",
       "  </thead>\n",
       "  <tbody>\n",
       "    <tr>\n",
       "      <th>1</th>\n",
       "      <td>80</td>\n",
       "      <td>136</td>\n",
       "      <td>216</td>\n",
       "    </tr>\n",
       "    <tr>\n",
       "      <th>2</th>\n",
       "      <td>97</td>\n",
       "      <td>87</td>\n",
       "      <td>184</td>\n",
       "    </tr>\n",
       "    <tr>\n",
       "      <th>3</th>\n",
       "      <td>372</td>\n",
       "      <td>119</td>\n",
       "      <td>491</td>\n",
       "    </tr>\n",
       "    <tr>\n",
       "      <th>All</th>\n",
       "      <td>549</td>\n",
       "      <td>342</td>\n",
       "      <td>891</td>\n",
       "    </tr>\n",
       "  </tbody>\n",
       "</table>\n",
       "</div>"
      ],
      "text/plain": [
       "survived    0    1  All\n",
       "pclass                 \n",
       "1          80  136  216\n",
       "2          97   87  184\n",
       "3         372  119  491\n",
       "All       549  342  891"
      ]
     },
     "execution_count": 6,
     "metadata": {},
     "output_type": "execute_result"
    }
   ],
   "source": [
    "pd.crosstab(titanic.pclass, titanic.survived,margins=True)"
   ]
  },
  {
   "cell_type": "code",
   "execution_count": 4,
   "metadata": {},
   "outputs": [
    {
     "data": {
      "text/html": [
       "<div>\n",
       "<style scoped>\n",
       "    .dataframe tbody tr th:only-of-type {\n",
       "        vertical-align: middle;\n",
       "    }\n",
       "\n",
       "    .dataframe tbody tr th {\n",
       "        vertical-align: top;\n",
       "    }\n",
       "\n",
       "    .dataframe thead th {\n",
       "        text-align: right;\n",
       "    }\n",
       "</style>\n",
       "<table border=\"1\" class=\"dataframe\">\n",
       "  <thead>\n",
       "    <tr style=\"text-align: right;\">\n",
       "      <th>survived</th>\n",
       "      <th>0</th>\n",
       "      <th>1</th>\n",
       "      <th>All</th>\n",
       "    </tr>\n",
       "    <tr>\n",
       "      <th>pclass</th>\n",
       "      <th></th>\n",
       "      <th></th>\n",
       "      <th></th>\n",
       "    </tr>\n",
       "  </thead>\n",
       "  <tbody>\n",
       "    <tr>\n",
       "      <th>1</th>\n",
       "      <td>3</td>\n",
       "      <td>91</td>\n",
       "      <td>94</td>\n",
       "    </tr>\n",
       "    <tr>\n",
       "      <th>2</th>\n",
       "      <td>6</td>\n",
       "      <td>70</td>\n",
       "      <td>76</td>\n",
       "    </tr>\n",
       "    <tr>\n",
       "      <th>3</th>\n",
       "      <td>72</td>\n",
       "      <td>72</td>\n",
       "      <td>144</td>\n",
       "    </tr>\n",
       "    <tr>\n",
       "      <th>All</th>\n",
       "      <td>81</td>\n",
       "      <td>233</td>\n",
       "      <td>314</td>\n",
       "    </tr>\n",
       "  </tbody>\n",
       "</table>\n",
       "</div>"
      ],
      "text/plain": [
       "survived   0    1  All\n",
       "pclass                \n",
       "1          3   91   94\n",
       "2          6   70   76\n",
       "3         72   72  144\n",
       "All       81  233  314"
      ]
     },
     "execution_count": 4,
     "metadata": {},
     "output_type": "execute_result"
    }
   ],
   "source": [
    "WomenOnly = titanic[titanic[\"sex\"]==\"female\"]\n",
    "pd.crosstab(WomenOnly.pclass, WomenOnly.survived,margins=True)"
   ]
  },
  {
   "cell_type": "markdown",
   "metadata": {},
   "source": [
    "------\n",
    "**Test the claim that the survival chances of women in 1st and 2nd class were pretty much the same.**\n",
    "\n",
    "1. Write down the Null hypothesis and test statistic\n",
    "2. Write code that generates permutation samples from two data sets\n",
    "3. Generate many **permutation replicates** for the relevant Titanic subset\n",
    "4. Compute a p-value"
   ]
  },
  {
   "cell_type": "markdown",
   "metadata": {},
   "source": [
    "-----\n",
    "2. Write code that generates permutation samples from two data sets"
   ]
  },
  {
   "cell_type": "code",
   "execution_count": 5,
   "metadata": {},
   "outputs": [],
   "source": [
    "Women1 = WomenOnly[WomenOnly[\"pclass\"]==1].survived\n",
    "Women2 = WomenOnly[WomenOnly[\"pclass\"]==2].survived\n",
    "\n",
    "obsDiff = np.mean(Women1)-np.mean(Women2)\n",
    "\n",
    "#perm_sample_1, perm_sample_2 = permutation_sample(Women1, Women2)\n",
    "np.random.seed(123)\n",
    "#tmp=np.concatenate((perm_sample_1, perm_sample_2))\n",
    "perm_replicates = draw_perm_reps(Women1, Women2, diff_of_means, 10000)"
   ]
  },
  {
   "cell_type": "code",
   "execution_count": 6,
   "metadata": {
    "scrolled": true
   },
   "outputs": [
    {
     "data": {
      "text/plain": [
       "0.04703247480403139"
      ]
     },
     "execution_count": 6,
     "metadata": {},
     "output_type": "execute_result"
    }
   ],
   "source": [
    "obsDiff"
   ]
  },
  {
   "cell_type": "code",
   "execution_count": 10,
   "metadata": {},
   "outputs": [
    {
     "data": {
      "text/plain": [
       "array([-0.001, -0.001, -0.001, ...,  0.023, -0.048, -0.024])"
      ]
     },
     "execution_count": 10,
     "metadata": {},
     "output_type": "execute_result"
    }
   ],
   "source": [
    "perm_replicates"
   ]
  },
  {
   "cell_type": "markdown",
   "metadata": {},
   "source": [
    "------\n",
    "3. Generate many **permutation replicates** for the relevant Titanic subset"
   ]
  },
  {
   "cell_type": "code",
   "execution_count": 9,
   "metadata": {
    "tags": [
     "hide-input"
    ]
   },
   "outputs": [
    {
     "name": "stdout",
     "output_type": "stream",
     "text": [
      "0.1876\n",
      "right pVal: 0.0431\n",
      "left pVal: 0.1445\n"
     ]
    },
    {
     "data": {
      "image/png": "[encoded data removed]",
      "text/plain": [
       "<Figure size 432x288 with 1 Axes>"
      ]
     },
     "metadata": {
      "needs_background": "light"
     },
     "output_type": "display_data"
    }
   ],
   "source": [
    "tmp=plt.hist(perm_replicates)\n",
    "plt.vlines(obsDiff,0,2500,colors=\"red\")\n",
    "plt.vlines(-obsDiff,0,2500, colors=\"red\")\n",
    "\n",
    "obsDiff = np.mean(Women1)-np.mean(Women2)\n",
    "pVal2 = np.mean(abs(perm_replicates) > obsDiff)\n",
    "print(pVal2)\n",
    "\n",
    "#pVal1=np.mean(perm_replicates > obsDiff)\n",
    "RightTail =  perm_replicates > obsDiff\n",
    "pVal_right =np.mean(RightTail) #np.sum(boolArray)/len(perm_replicates)\n",
    "\n",
    "print(\"right pVal:\", str(pVal_right))\n",
    "\n",
    "LeftTail =  perm_replicates < -obsDiff\n",
    "pVal_left= np.mean(LeftTail) #np.sum(boolArray)/len(perm_replicates)\n",
    "print(\"left pVal:\", str(pVal_left))\n",
    "\n"
   ]
  },
  {
   "cell_type": "markdown",
   "metadata": {},
   "source": [
    "We could choose alpha = 0.05, but keep in mind the following\n",
    "- would you step into a plane that has a 5% crash probability ?\n",
    "- Would you buy a drug that has a 5% chance of severe side effects ?\n"
   ]
  },
  {
   "cell_type": "markdown",
   "metadata": {},
   "source": [
    "-------\n",
    "4. Compute a p-value"
   ]
  },
  {
   "cell_type": "code",
   "execution_count": 12,
   "metadata": {
    "code_folding": [],
    "tags": [
     "hide-input"
    ]
   },
   "outputs": [
    {
     "name": "stdout",
     "output_type": "stream",
     "text": [
      "p-vlaue: 0.0468\n"
     ]
    }
   ],
   "source": [
    "# %load ../InNotebookSolutions/class4_sol2.py\n",
    "Women1 = WomenOnly[WomenOnly[\"pclass\"]==1].survived\n",
    "Women2 = WomenOnly[WomenOnly[\"pclass\"]==2].survived\n",
    "\n",
    "obsDiff = np.mean(Women1)-np.mean(Women2)\n",
    "\n",
    "# Acquire permutation samples: perm_replicates\n",
    "perm_replicates = draw_perm_reps(Women1, Women2, diff_of_means, 10000)\n",
    "\n",
    "#p-value:\n",
    "print('p-vlaue:', np.mean(perm_replicates >obsDiff))"
   ]
  },
  {
   "cell_type": "markdown",
   "metadata": {},
   "source": [
    "**What is the difference between these two methods ?**\n",
    "\n",
    "Testing the hypothesis that two samples have the same distribution may be done with a bootstrap test, but a permutation test is preferred because it is more accurate (exact, in fact). But a permutation test is not as versatile as the bootstrap. \n",
    "\n",
    "We often want to test the hypothesis that population A and population B have the same mean, but not necessarily the same distribution. This is difficult with a permutation test as it assumes **exchangeability**.\n",
    "\n",
    "We will get back to this topic!\n",
    "\n",
    "[More info..](https://ntrs.nasa.gov/archive/nasa/casi.ntrs.nasa.gov/20150001882.pdf)"
   ]
  },
  {
   "cell_type": "markdown",
   "metadata": {},
   "source": [
    "------\n",
    "## 2-sample t test\n",
    "\n",
    "Of course there is an equivalent fully parametric 2-sample test, the t-test:"
   ]
  },
  {
   "cell_type": "code",
   "execution_count": 13,
   "metadata": {},
   "outputs": [],
   "source": [
    "preg = pd.read_hdf('../data/pregNSFG.h5', 'df')\n",
    "\n",
    "#only look at live births\n",
    "live = preg[preg.outcome == 1]\n",
    "\n",
    "#define first babies\n",
    "firsts = live[live.birthord == 1]\n",
    "\n",
    "#and all others\n",
    "others = live[live.birthord != 1]"
   ]
  },
  {
   "cell_type": "code",
   "execution_count": 14,
   "metadata": {},
   "outputs": [],
   "source": [
    "tRes = stats.ttest_ind(firsts.prglngth.values, others.prglngth.values)\n",
    "\n",
    "#arrg precision is not working\n",
    "pd.set_option('precision', 4)\n",
    "p = pd.Series([tRes.pvalue,tRes.statistic], index = ['p-value:', 'test statistic:'])"
   ]
  },
  {
   "cell_type": "code",
   "execution_count": 15,
   "metadata": {},
   "outputs": [
    {
     "name": "stdout",
     "output_type": "stream",
     "text": [
      "p-value:           0.1676\n",
      "test statistic:    1.3802\n",
      "dtype: float64\n"
     ]
    }
   ],
   "source": [
    "print(p)"
   ]
  },
  {
   "cell_type": "code",
   "execution_count": 16,
   "metadata": {},
   "outputs": [],
   "source": [
    "tRes = stats.ttest_ind(firsts.prglngth.values, others.prglngth.values)\n",
    "\n",
    "#arrg precision is not working\n",
    "pd.set_option('precision', 4)\n",
    "p = pd.Series([tRes.pvalue,tRes.statistic], index = ['p-value:', 'test statistic:'])"
   ]
  },
  {
   "cell_type": "code",
   "execution_count": 17,
   "metadata": {},
   "outputs": [],
   "source": [
    "#ttest_ind often underestimates p for unequal variances:\n",
    "\n",
    "tRes = stats.ttest_ind(firsts.prglngth.values, others.prglngth.values, equal_var = False)\n",
    "p = pd.Series([tRes.pvalue,tRes.statistic], index = ['p-value:', 'test statistic:'])"
   ]
  },
  {
   "cell_type": "code",
   "execution_count": 18,
   "metadata": {},
   "outputs": [
    {
     "name": "stdout",
     "output_type": "stream",
     "text": [
      "p-value:           0.1685\n",
      "test statistic:    1.3771\n",
      "dtype: float64\n"
     ]
    }
   ],
   "source": [
    "print(p)"
   ]
  },
  {
   "cell_type": "code",
   "execution_count": 19,
   "metadata": {},
   "outputs": [],
   "source": [
    "#ttest_ind often underestimates p for unequal variances:\n",
    "\n",
    "tRes = stats.ttest_ind(firsts.prglngth.values, others.prglngth.values, equal_var = False)\n",
    "p = pd.Series([tRes.pvalue,tRes.statistic], index = ['p-value:', 'test statistic:'])"
   ]
  },
  {
   "cell_type": "markdown",
   "metadata": {},
   "source": [
    "------\n",
    "**Can you reproduce the first p-value from the [test statistic](https://docs.scipy.org/doc/scipy/reference/generated/scipy.stats.t.html) ?**"
   ]
  },
  {
   "cell_type": "code",
   "execution_count": 20,
   "metadata": {},
   "outputs": [
    {
     "name": "stdout",
     "output_type": "stream",
     "text": [
      "p-value: 0.1675588076428014\n"
     ]
    }
   ],
   "source": [
    "# %load ../InNotebookSolutions/class4_sol_t.py\n",
    "#get a quantile:\n",
    "stats.t.ppf(0.975,10)\n",
    "\n",
    "#reproduce p-value:\n",
    "n1 = len(firsts.prglngth.values)\n",
    "n2 = len(others.prglngth.values)\n",
    "pVal = 2*(1-stats.t.cdf(1.3802,n1+n2-2))\n",
    "print('p-value:',pVal)"
   ]
  },
  {
   "cell_type": "markdown",
   "metadata": {},
   "source": [
    "--------------------------------------------------------\n",
    "## Random Walks\n",
    "\n",
    "An illustrative application of basic stochastic concepts in binary processes is the simulation of random walks. Let’s first consider a simple random walk starting at 0 with steps of 1 and -1 occurring with equal probability ($p = 0.5$)."
   ]
  },
  {
   "cell_type": "code",
   "execution_count": 21,
   "metadata": {},
   "outputs": [
    {
     "data": {
      "image/png": "[encoded data removed]",
      "text/plain": [
       "<Figure size 432x288 with 1 Axes>"
      ]
     },
     "metadata": {
      "needs_background": "light"
     },
     "output_type": "display_data"
    }
   ],
   "source": [
    "nsteps = 10000\n",
    "draws = np.random.randint(0, 2, size=nsteps)\n",
    "steps = np.where(draws > 0, 1, -1)\n",
    "walk = steps.cumsum() # random walk !\n",
    "fig = plt.figure(); ax = fig.add_subplot(1, 1, 1)\n",
    "ax.plot(walk, linewidth=0.5)\n",
    "ax.grid()"
   ]
  },
  {
   "cell_type": "markdown",
   "metadata": {},
   "source": [
    "**Extra Credit**\n",
    "\n",
    "A more complicated statistic is the first crossing time, the step at which the random walk reaches a particular value. Here we might want to know how long it took the random walk to get at least 10 steps away from the origin 0 in either direction.\n",
    "np.abs(walk) >= 10 gives us a boolean array indicating where the walk has reached or exceeded 10, but we want the index of the first 10 or -10. This can be computed using argmax, which returns the first index of the maximum value in the boolean array (True is the maximum value):"
   ]
  },
  {
   "cell_type": "code",
   "execution_count": 22,
   "metadata": {},
   "outputs": [
    {
     "data": {
      "text/plain": [
       "89"
      ]
     },
     "execution_count": 22,
     "metadata": {},
     "output_type": "execute_result"
    }
   ],
   "source": [
    "(np.abs(walk) >= 10).argmax()"
   ]
  },
  {
   "cell_type": "markdown",
   "metadata": {},
   "source": [
    "-------\n",
    "### Simulating Many Random Walks at Once\n",
    "\n",
    "If your goal was to simulate many random walks, say 5,000 of them, you can generate all of the random walks with minor modifications to the above code. The numpy.random functions if passed a 2-tuple will generate a 2D array of draws, and we can compute the cumulative sum across the rows to compute all 5,000 random walks in one shot"
   ]
  },
  {
   "cell_type": "code",
   "execution_count": 23,
   "metadata": {},
   "outputs": [],
   "source": [
    "nwalks = 5000\n",
    "nsteps = 10000\n",
    "draws = np.random.randint(0, 2, size=(nwalks, nsteps)) # 0 or 1\n",
    "steps = np.where(draws > 0, 1, -1)\n",
    "walks = steps.cumsum(1)"
   ]
  },
  {
   "cell_type": "code",
   "execution_count": 24,
   "metadata": {},
   "outputs": [
    {
     "data": {
      "text/plain": [
       "(5000, 10000)"
      ]
     },
     "execution_count": 24,
     "metadata": {},
     "output_type": "execute_result"
    }
   ],
   "source": [
    "walks.shape"
   ]
  },
  {
   "cell_type": "code",
   "execution_count": 18,
   "metadata": {},
   "outputs": [
    {
     "ename": "TypeError",
     "evalue": "rand() got an unexpected keyword argument 'size'",
     "output_type": "error",
     "traceback": [
      "\u001b[0;31m---------------------------------------------------------------------------\u001b[0m",
      "\u001b[0;31mTypeError\u001b[0m                                 Traceback (most recent call last)",
      "\u001b[0;32m/var/folders/h4/k73g68ds6xj791sf8cpmlxlc0000gn/T/ipykernel_27215/3988120789.py\u001b[0m in \u001b[0;36m<module>\u001b[0;34m\u001b[0m\n\u001b[1;32m      3\u001b[0m \u001b[0;31m#draws = np.random.randint(0, 2,  size=(nwalks, nsteps)) # 0 or 1\u001b[0m\u001b[0;34m\u001b[0m\u001b[0;34m\u001b[0m\u001b[0;34m\u001b[0m\u001b[0m\n\u001b[1;32m      4\u001b[0m \u001b[0;31m#steps = np.where(draws > 0, 1, 0)\u001b[0m\u001b[0;34m\u001b[0m\u001b[0;34m\u001b[0m\u001b[0;34m\u001b[0m\u001b[0m\n\u001b[0;32m----> 5\u001b[0;31m \u001b[0msteps\u001b[0m \u001b[0;34m=\u001b[0m \u001b[0mnp\u001b[0m\u001b[0;34m.\u001b[0m\u001b[0mrandom\u001b[0m\u001b[0;34m.\u001b[0m\u001b[0mrand\u001b[0m\u001b[0;34m(\u001b[0m\u001b[0msize\u001b[0m\u001b[0;34m=\u001b[0m\u001b[0;34m(\u001b[0m\u001b[0mnwalks\u001b[0m\u001b[0;34m,\u001b[0m \u001b[0mnsteps\u001b[0m\u001b[0;34m)\u001b[0m\u001b[0;34m)\u001b[0m \u001b[0;34m<=\u001b[0m \u001b[0;36m0.1\u001b[0m\u001b[0;34m\u001b[0m\u001b[0;34m\u001b[0m\u001b[0m\n\u001b[0m\u001b[1;32m      6\u001b[0m \u001b[0;34m\u001b[0m\u001b[0m\n\u001b[1;32m      7\u001b[0m \u001b[0mwalks\u001b[0m \u001b[0;34m=\u001b[0m \u001b[0msteps\u001b[0m\u001b[0;34m.\u001b[0m\u001b[0mcumsum\u001b[0m\u001b[0;34m(\u001b[0m\u001b[0;36m1\u001b[0m\u001b[0;34m)\u001b[0m\u001b[0;34m\u001b[0m\u001b[0;34m\u001b[0m\u001b[0m\n",
      "\u001b[0;31mTypeError\u001b[0m: rand() got an unexpected keyword argument 'size'"
     ]
    }
   ],
   "source": [
    "nwalks = 5000\n",
    "nsteps = 10000\n",
    "#draws = np.random.randint(0, 2,  size=(nwalks, nsteps)) # 0 or 1\n",
    "#steps = np.where(draws > 0, 1, 0)\n",
    "steps = np.random.rand() <= 0.1\n",
    "\n",
    "walks = steps.cumsum(1)"
   ]
  },
  {
   "cell_type": "code",
   "execution_count": 11,
   "metadata": {},
   "outputs": [
    {
     "data": {
      "text/plain": [
       "(5000, 10000)"
      ]
     },
     "execution_count": 11,
     "metadata": {},
     "output_type": "execute_result"
    }
   ],
   "source": [
    "walks.shape"
   ]
  },
  {
   "cell_type": "code",
   "execution_count": 16,
   "metadata": {},
   "outputs": [
    {
     "name": "stdout",
     "output_type": "stream",
     "text": [
      "n = 100: 9.925958460521583\n",
      "n = 200: 13.959482374357583\n",
      "n = 400: 19.82654543383693\n",
      "n = 1600: 40.95979796043921\n"
     ]
    }
   ],
   "source": [
    "#compute stdevs at n= 100, 200, 400, 1600:\n",
    "print(\"n = 100:\", str(np.std(walks[:,99])))\n",
    "print(\"n = 200:\", str(np.std(walks[:,199])))\n",
    "print(\"n = 400:\", str(np.std(walks[:,399])))\n",
    "print(\"n = 1600:\", str(np.std(walks[:,1599])))"
   ]
  },
  {
   "cell_type": "code",
   "execution_count": 26,
   "metadata": {},
   "outputs": [
    {
     "data": {
      "image/png": "[encoded data removed]",
      "text/plain": [
       "<Figure size 432x288 with 1 Axes>"
      ]
     },
     "metadata": {
      "needs_background": "light"
     },
     "output_type": "display_data"
    }
   ],
   "source": [
    "fig = plt.figure()\n",
    "ax = fig.add_subplot(1, 1, 1)\n",
    "\n",
    "ax.plot(walks[1,:], 'k', label='one', linewidth=0.25)\n",
    "ax.plot(walks[2,:], label='two', linestyle ='--', linewidth=0.25)\n",
    "ax.plot(walks[3,:],  label='three', linestyle ='--', linewidth=0.25)\n",
    "ax.plot(walks[4,:],  label='four', linestyle ='--', linewidth=0.25)\n",
    "ax.grid()\n",
    "\n",
    "#a very useless legend just because we can\n",
    "ax.legend(loc='best');"
   ]
  },
  {
   "cell_type": "markdown",
   "metadata": {},
   "source": [
    "-------\n",
    "### The $\\sqrt{n}$ law again !\n",
    "\n",
    "Compute the variance and/or standard deviation at times $1000, 4000, 9000$."
   ]
  },
  {
   "cell_type": "code",
   "execution_count": 27,
   "metadata": {},
   "outputs": [
    {
     "name": "stdout",
     "output_type": "stream",
     "text": [
      "std_1000: 31.985538009544253\n",
      "std_4000: 63.65415401998522\n",
      "std_9000: 95.417731496824\n"
     ]
    }
   ],
   "source": [
    "print('std_1000:', np.std(walks[:,1000]))\n",
    "print('std_4000:', np.std(walks[:,4000]))\n",
    "print('std_9000:', np.std(walks[:,9000]))"
   ]
  },
  {
   "cell_type": "markdown",
   "metadata": {},
   "source": [
    "**Extra Credit**\n",
    "\n",
    "Out of these walks, let’s compute the minimum crossing time to 30 or -30. This is slightly tricky because not all 5,000 of them reach 30. We can check this using the *any* method.\n",
    "\n",
    "We can then use this boolean array to select out the rows of walks that actually cross the absolute 30 level and call argmax across axis 1 to get the crossing times:"
   ]
  },
  {
   "cell_type": "code",
   "execution_count": 28,
   "metadata": {},
   "outputs": [
    {
     "data": {
      "text/plain": [
       "892.4928"
      ]
     },
     "execution_count": 28,
     "metadata": {},
     "output_type": "execute_result"
    }
   ],
   "source": [
    "hits30 = (np.abs(walks) >= 30).any(1)\n",
    "hits30\n",
    "hits30.sum() # Number that hit 30 or -30\n",
    "\n",
    "crossing_times = (np.abs(walks[hits30]) >= 30).argmax(1)\n",
    "crossing_times.mean()"
   ]
  },
  {
   "cell_type": "markdown",
   "metadata": {},
   "source": [
    "-------\n",
    "## Tasks\n",
    "\n",
    "1. Compute the stdev for multiples of 100 iterations and find a pattern\n",
    "2. Repeat for \"biased\" random walks, where $p \\neq 0.5$. Try $p = 0.1$ and $p = 0.9$\n",
    "3. Learn\n",
    "    * the analytic formular for variance/stdev of coin flips\n",
    "    * the actual distribution (chap 3.4 in https://www.openintro.org/stat/)\n",
    "    * its approximation \n",
    "4. Complete the labeling of the two axis (with the help of https://codeandstats.shinyapps.io/binomialtails/)\n",
    " ![BinomialTails](../figures/BinomialTails.png)"
   ]
  },
  {
   "cell_type": "markdown",
   "metadata": {},
   "source": [
    "--------\n",
    "### Binomial Probability Distribution\n",
    "\n",
    "1. Explore the *binom* function from scipy.stats\n",
    "\n",
    "2. Size matters: insurance company A insures 100 cars, company B 400 cars. The probability of a car being stolen is 10%. Compute the probabilities that more than 15% of the respective fleets are stolen.\n",
    "\n",
    "4. Faced with a mutliple choice test containing 20 question with 4 choices each you decide in desparation to just guess all answers. What is the probability that you will pass, i.e. get at least 10 correct answers?\n",
    "\n",
    "5. Think about nonparametric versions of the above answers"
   ]
  },
  {
   "cell_type": "code",
   "execution_count": 29,
   "metadata": {},
   "outputs": [],
   "source": [
    " from scipy.stats import binom"
   ]
  },
  {
   "cell_type": "markdown",
   "metadata": {},
   "source": [
    "--------\n",
    "### A/B Testing\n",
    "\n",
    "1. Perform a permutation test on the DataCamp example:\n",
    "\n",
    "<div>\n",
    "<img src=\"../figures/DC_ABtest.png\" width=\"400\"/>\n",
    "</div>"
   ]
  },
  {
   "cell_type": "markdown",
   "metadata": {},
   "source": [
    "------\n",
    "**What does A/B testing have to do with random walks?**"
   ]
  },
  {
   "cell_type": "code",
   "execution_count": 30,
   "metadata": {},
   "outputs": [],
   "source": [
    "# Construct arrays of data: campaigns A and B\n",
    "clickthroughA = np.array([True] * 45 + [False] * (500-45))\n",
    "clickthroughB = np.array([True] * 67 + [False] * (500-67))\n",
    "\n",
    "obsDiff = np.mean(clickthroughB)-np.mean(clickthroughA)\n",
    "\n",
    "# Acquire permutation samples: perm_replicates\n",
    "perm_replicates = draw_perm_reps(clickthroughB, clickthroughA, diff_of_means, 10000)"
   ]
  },
  {
   "cell_type": "code",
   "execution_count": 31,
   "metadata": {},
   "outputs": [
    {
     "data": {
      "text/plain": [
       "0.0185"
      ]
     },
     "execution_count": 31,
     "metadata": {},
     "output_type": "execute_result"
    }
   ],
   "source": [
    "#p-value:\n",
    "np.mean(perm_replicates >= obsDiff)"
   ]
  },
  {
   "cell_type": "code",
   "execution_count": 32,
   "metadata": {
    "scrolled": false
   },
   "outputs": [
    {
     "data": {
      "image/png": "[encoded data removed]",
      "text/plain": [
       "<Figure size 432x288 with 1 Axes>"
      ]
     },
     "metadata": {
      "needs_background": "light"
     },
     "output_type": "display_data"
    }
   ],
   "source": [
    "# Construct arrays of data: campaigns A and B\n",
    "clickthroughA = np.array([True] * 45 + [False] * (500-45))\n",
    "clickthroughB = np.array([True] * 67 + [False] * (500-67))\n",
    "\n",
    "obsDiff = np.mean(clickthroughB)-np.mean(clickthroughA)\n",
    "\n",
    "# Acquire permutation samples: perm_replicates\n",
    "perm_replicates = draw_perm_reps(clickthroughB, clickthroughA, diff_of_means, 10000)\n",
    "\n",
    "plt.hist(perm_replicates)\n",
    "plt.vlines(obsDiff,0,3000,colors=\"red\")\n",
    "plt.vlines(-obsDiff,0,3000, colors=\"red\");"
   ]
  },
  {
   "cell_type": "code",
   "execution_count": null,
   "metadata": {},
   "outputs": [],
   "source": []
  }
 ],
 "metadata": {
  "hide_input": false,
  "kernelspec": {
   "display_name": "Python 3.9.0 64-bit",
   "language": "python",
   "name": "python3"
  },
  "language_info": {
   "codemirror_mode": {
    "name": "ipython",
    "version": 3
   },
   "file_extension": ".py",
   "mimetype": "text/x-python",
   "name": "python",
   "nbconvert_exporter": "python",
   "pygments_lexer": "ipython3",
   "version": "3.9.0"
  },
  "varInspector": {
   "cols": {
    "lenName": 16,
    "lenType": 16,
    "lenVar": 40
   },
   "kernels_config": {
    "python": {
     "delete_cmd_postfix": "",
     "delete_cmd_prefix": "del ",
     "library": "var_list.py",
     "varRefreshCmd": "print(var_dic_list())"
    },
    "r": {
     "delete_cmd_postfix": ") ",
     "delete_cmd_prefix": "rm(",
     "library": "var_list.r",
     "varRefreshCmd": "cat(var_dic_list()) "
    }
   },
   "types_to_exclude": [
    "module",
    "function",
    "builtin_function_or_method",
    "instance",
    "_Feature"
   ],
   "window_display": false
  },
  "vscode": {
   "interpreter": {
    "hash": "949777d72b0d2535278d3dc13498b2535136f6dfe0678499012e853ee9abcab1"
   }
  }
 },
 "nbformat": 4,
 "nbformat_minor": 2
}
