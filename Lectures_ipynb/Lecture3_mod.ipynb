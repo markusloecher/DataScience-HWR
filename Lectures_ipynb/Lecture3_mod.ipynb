{
 "cells": [
  {
   "cell_type": "markdown",
   "metadata": {},
   "source": [
    "# Lecture 3\n",
    "\n",
    "**Overview**\n",
    "1. Hypothesis Tests\n",
    "    * 1-sample\n",
    "    * 2-sample\n",
    "2. Permutation Tests"
   ]
  },
  {
   "cell_type": "markdown",
   "metadata": {},
   "source": [
    "## WarmUp/Review Exercises\n",
    "\n",
    "Load the *Auto.csv* data (into a dataframe *cars*) for the following tasks and create a scatter plot `mpg ~ weight`.\n",
    "Take a look at row with index $25$ (i.e. row 26); we will refer to that data point as $x_{25}$ from now on.\n",
    "\n",
    "* Compute the standard score for \n",
    "    * $x_{25}$[\"mpg\"]\n",
    "    * $x_{25}$[\"weight\"]\n",
    "* Compute the product of these standard scores (call it $p_{25}$).\n",
    "* If you repeated this process for all rows of the *cars* dataframe and averaged all products $p_{i}$, what would the resulting number tell you ? (What is it called?)\n",
    "* Take a bootstrap sample from cars.mpg and compute the mean"
   ]
  },
  {
   "cell_type": "markdown",
   "metadata": {},
   "source": [
    "------\n",
    "**Importing Standard Libraries**"
   ]
  },
  {
   "cell_type": "code",
   "execution_count": 2,
   "metadata": {},
   "outputs": [],
   "source": [
    "import numpy as np\n",
    "import matplotlib.pyplot as plt\n",
    "import pandas as pd\n",
    "pd.options.mode.chained_assignment = None # disable chained assignment warning\n",
    "import seaborn as sns"
   ]
  },
  {
   "cell_type": "markdown",
   "metadata": {},
   "source": [
    "-----\n",
    "**Loading our Functions**"
   ]
  },
  {
   "cell_type": "code",
   "execution_count": 3,
   "metadata": {},
   "outputs": [
    {
     "data": {
      "text/plain": [
       "'%.3f'"
      ]
     },
     "execution_count": 3,
     "metadata": {},
     "output_type": "execute_result"
    }
   ],
   "source": [
    "%run ../ourFunctions.py\n",
    "%precision 3"
   ]
  },
  {
   "cell_type": "markdown",
   "metadata": {},
   "source": [
    "------\n",
    "**Read in the Cars DF**"
   ]
  },
  {
   "cell_type": "code",
   "execution_count": 4,
   "metadata": {},
   "outputs": [
    {
     "data": {
      "text/plain": [
       "(392, 10)"
      ]
     },
     "execution_count": 4,
     "metadata": {},
     "output_type": "execute_result"
    }
   ],
   "source": [
    "cars = pd.read_csv('../data/Auto.csv')\n",
    "cars.shape"
   ]
  },
  {
   "cell_type": "code",
   "execution_count": 4,
   "metadata": {},
   "outputs": [
    {
     "data": {
      "text/html": [
       "<div>\n",
       "<style scoped>\n",
       "    .dataframe tbody tr th:only-of-type {\n",
       "        vertical-align: middle;\n",
       "    }\n",
       "\n",
       "    .dataframe tbody tr th {\n",
       "        vertical-align: top;\n",
       "    }\n",
       "\n",
       "    .dataframe thead th {\n",
       "        text-align: right;\n",
       "    }\n",
       "</style>\n",
       "<table border=\"1\" class=\"dataframe\">\n",
       "  <thead>\n",
       "    <tr style=\"text-align: right;\">\n",
       "      <th></th>\n",
       "      <th>mpg</th>\n",
       "      <th>cylinders</th>\n",
       "      <th>displacement</th>\n",
       "      <th>horsepower</th>\n",
       "      <th>weight</th>\n",
       "      <th>acceleration</th>\n",
       "      <th>year</th>\n",
       "      <th>origin</th>\n",
       "      <th>name</th>\n",
       "      <th>Manufacturer</th>\n",
       "    </tr>\n",
       "  </thead>\n",
       "  <tbody>\n",
       "    <tr>\n",
       "      <th>0</th>\n",
       "      <td>18.0</td>\n",
       "      <td>8</td>\n",
       "      <td>307.0</td>\n",
       "      <td>130</td>\n",
       "      <td>3504</td>\n",
       "      <td>12.0</td>\n",
       "      <td>70</td>\n",
       "      <td>1</td>\n",
       "      <td>chevrolet chevelle malibu</td>\n",
       "      <td>chevrolet</td>\n",
       "    </tr>\n",
       "    <tr>\n",
       "      <th>1</th>\n",
       "      <td>15.0</td>\n",
       "      <td>8</td>\n",
       "      <td>350.0</td>\n",
       "      <td>165</td>\n",
       "      <td>3693</td>\n",
       "      <td>11.5</td>\n",
       "      <td>70</td>\n",
       "      <td>1</td>\n",
       "      <td>buick skylark 320</td>\n",
       "      <td>buick</td>\n",
       "    </tr>\n",
       "    <tr>\n",
       "      <th>2</th>\n",
       "      <td>18.0</td>\n",
       "      <td>8</td>\n",
       "      <td>318.0</td>\n",
       "      <td>150</td>\n",
       "      <td>3436</td>\n",
       "      <td>11.0</td>\n",
       "      <td>70</td>\n",
       "      <td>1</td>\n",
       "      <td>plymouth satellite</td>\n",
       "      <td>plymouth</td>\n",
       "    </tr>\n",
       "    <tr>\n",
       "      <th>3</th>\n",
       "      <td>16.0</td>\n",
       "      <td>8</td>\n",
       "      <td>304.0</td>\n",
       "      <td>150</td>\n",
       "      <td>3433</td>\n",
       "      <td>12.0</td>\n",
       "      <td>70</td>\n",
       "      <td>1</td>\n",
       "      <td>amc rebel sst</td>\n",
       "      <td>amc</td>\n",
       "    </tr>\n",
       "    <tr>\n",
       "      <th>4</th>\n",
       "      <td>17.0</td>\n",
       "      <td>8</td>\n",
       "      <td>302.0</td>\n",
       "      <td>140</td>\n",
       "      <td>3449</td>\n",
       "      <td>10.5</td>\n",
       "      <td>70</td>\n",
       "      <td>1</td>\n",
       "      <td>ford torino</td>\n",
       "      <td>ford</td>\n",
       "    </tr>\n",
       "  </tbody>\n",
       "</table>\n",
       "</div>"
      ],
      "text/plain": [
       "    mpg  cylinders  displacement  horsepower  weight  acceleration  year  \\\n",
       "0  18.0          8         307.0         130    3504          12.0    70   \n",
       "1  15.0          8         350.0         165    3693          11.5    70   \n",
       "2  18.0          8         318.0         150    3436          11.0    70   \n",
       "3  16.0          8         304.0         150    3433          12.0    70   \n",
       "4  17.0          8         302.0         140    3449          10.5    70   \n",
       "\n",
       "   origin                       name Manufacturer  \n",
       "0       1  chevrolet chevelle malibu    chevrolet  \n",
       "1       1          buick skylark 320        buick  \n",
       "2       1         plymouth satellite     plymouth  \n",
       "3       1              amc rebel sst          amc  \n",
       "4       1                ford torino         ford  "
      ]
     },
     "execution_count": 4,
     "metadata": {},
     "output_type": "execute_result"
    }
   ],
   "source": [
    "cars.head()"
   ]
  },
  {
   "cell_type": "code",
   "execution_count": 5,
   "metadata": {},
   "outputs": [
    {
     "name": "stdout",
     "output_type": "stream",
     "text": [
      "mpg                  10.0\n",
      "cylinders               8\n",
      "displacement        360.0\n",
      "horsepower            215\n",
      "weight               4615\n",
      "acceleration         14.0\n",
      "year                   70\n",
      "origin                  1\n",
      "name            ford f250\n",
      "Manufacturer         ford\n",
      "Name: 25, dtype: object\n"
     ]
    }
   ],
   "source": [
    "print(cars.iloc[25,])"
   ]
  },
  {
   "cell_type": "code",
   "execution_count": 6,
   "metadata": {
    "scrolled": false
   },
   "outputs": [
    {
     "data": {
      "image/png": "[encoded data removed]",
      "text/plain": [
       "<Figure size 432x288 with 1 Axes>"
      ]
     },
     "metadata": {
      "needs_background": "light"
     },
     "output_type": "display_data"
    }
   ],
   "source": [
    "plt.scatter(\"weight\", \"mpg\",data=cars)\n",
    "plt.xlabel(\"weight\")\n",
    "plt.ylabel(\"mpg\")\n",
    "plt.show()"
   ]
  },
  {
   "cell_type": "markdown",
   "metadata": {
    "code_folding": []
   },
   "source": [
    "-------\n",
    "## Hypothesis Tests\n",
    "\n",
    "We have learned about the **bootstrap** as a slick way of resampling your data to obtain sampling distributions of various measures of interest, \n",
    "Without having to learn highly specific distributions (such as the $\\chi^2$, Poisson, Binomial or F-distribution) the bootstrap enables us to \n",
    "\n",
    "\n",
    "1. get **confidence intervals**\n",
    "2. perform **one-sample tests**\n",
    "3. perform **two-sample tests**\n",
    "\n",
    "Imagine the EPA requiring the average mpg for 4-cylinder cars to be at least $\\mu_0 = 30$ and needs to decide -based on this sample only- whether the manufacturers need to implement some improvements.\n",
    "In statistical jargon: can the EPA **reject the claim** that the **true mean** is at least 30 ?"
   ]
  },
  {
   "cell_type": "code",
   "execution_count": 5,
   "metadata": {},
   "outputs": [
    {
     "data": {
      "text/plain": [
       "29.28391959798995"
      ]
     },
     "execution_count": 5,
     "metadata": {},
     "output_type": "execute_result"
    }
   ],
   "source": [
    "cars4=cars[cars[\"cylinders\"]==4]\n",
    "empirical_mean = np.mean(cars4.mpg)\n",
    "empirical_mean"
   ]
  },
  {
   "cell_type": "code",
   "execution_count": 10,
   "metadata": {},
   "outputs": [
    {
     "data": {
      "text/plain": [
       "5.656280603443601"
      ]
     },
     "execution_count": 10,
     "metadata": {},
     "output_type": "execute_result"
    }
   ],
   "source": [
    "empirical_sd = np.std(cars4.mpg)\n",
    "empirical_sd"
   ]
  },
  {
   "cell_type": "markdown",
   "metadata": {},
   "source": [
    "Compute a confidence interval of the true mpg of 4-cyl cars via the bootstrap !\n",
    "(Is there just \"THE CI\" ??)"
   ]
  },
  {
   "cell_type": "code",
   "execution_count": 7,
   "metadata": {},
   "outputs": [],
   "source": [
    "mpg_bs = draw_bs_reps(cars4.mpg, func = np.mean, size=1000)"
   ]
  },
  {
   "cell_type": "code",
   "execution_count": 9,
   "metadata": {},
   "outputs": [
    {
     "data": {
      "text/plain": [
       "array([28.498, 30.093])"
      ]
     },
     "execution_count": 9,
     "metadata": {},
     "output_type": "execute_result"
    }
   ],
   "source": [
    "np.percentile(mpg_bs, [2.5, 97.5])"
   ]
  },
  {
   "cell_type": "code",
   "execution_count": 13,
   "metadata": {},
   "outputs": [
    {
     "data": {
      "text/plain": [
       "1.959963984540054"
      ]
     },
     "execution_count": 13,
     "metadata": {},
     "output_type": "execute_result"
    }
   ],
   "source": [
    "from scipy.stats import norm\n",
    "norm.ppf(0.975)"
   ]
  },
  {
   "cell_type": "markdown",
   "metadata": {},
   "source": [
    "---------\n",
    "**There, we have it, the empirical mean is in fact below 30.**\n",
    "Is this sufficient evidence for the EPA to demand improvements ? \n",
    "Does $\\bar{x} < \\mu_0$ \"prove\" that $\\mu < \\mu_0$ ??\n",
    "\n",
    "Think about an experiment which tries to establish whether a pair of dice in a casino is biased (\"gezinkt\" in German). You toss the dice $50$ times and observe an average number of pips of $\\bar{x} = 3.8$ which is clearly \"way above\" the required value of $\\mu_0 = 3.5$ for a clean pair of dice. Should you go to the authorities and file a complaint ? Since no one really knows the true value of $\\mu$ for these dice, how would a court decide whether they are unbiased ?\n",
    "\n",
    "1. **Innocent until proven guilty**: Always assume the opposite of what you want to illustrate ! That way you can gather evidence against this **Null hypothesis**, e.g. $H_0: \\mu = 3.5 (\\equiv \\mu_0)$. \n",
    "2. Define a **test statistic** which is pertinent to the question you are seeking to answer (computed entirely from your sample). In this case, your test statistics could be e.g. the (scaled?) difference between the observed sample mean and the claim: $\\bar{x} - \\mu_0$.\n",
    "3. We define the **p-value** as the probability of observing a test statistic equally or more extreme than the one observed, given that $H_0$ is true.\n",
    "4. If the observed value of your test statistic seems very unlikely under $H_0$ we would favor the **alternative hypothesis** which is usually complementary, e.g. $H_A: \\mu \\neq 3.5$ \n",
    "\n",
    "\n",
    "Notice that we used vague expressions such as *unlikely* in the procedure above. In a legal context, we would want to make statements such as \"beyond a reasonable doubt\". Well, in statistics we ry to quantifiy that notion by limiting the type-I error probability $\\alpha$  to be at most e.g. $0.01$ or $0.05$. So none our decisions are ever \"proofs\" or free of error.\n",
    "\n",
    "It also means that you, the person conducting the hypothesis test, need to specify a value of $\\alpha$, which clearly introduces a certain amount of subjectivity. Later on, we will discuss the inherent tradeoffs between type-I and type-II errors: only then will one fully understand the non-arbitrary choice of $\\alpha$."
   ]
  },
  {
   "cell_type": "markdown",
   "metadata": {},
   "source": [
    "### Parametric Tests\n",
    "\n",
    "1. From the sample, compute $\\bar{x}$ and $\\hat{\\sigma}$.\n",
    "2. Compute the test statistic \n",
    "$$t = \\frac{\\bar{x} - \\mu_0}{\\hat{\\sigma}/\\sqrt{n}}$$\n",
    "3. Reject $H_0$ \n",
    "    * Two-sided test: if $|t| > t_{n-1, 1-\\alpha/2}$ \n",
    "    * Left-sided test: if $t   < t_{n-1, \\alpha}$ \n",
    "    * Right-sided test: if $t   > t_{n-1, 1-\\alpha}$\n",
    "    * If $n>50$ one may replace the t distribution with the normal\n",
    "4. Define the p-value as twice the tail area of a t distribution \n",
    "5. Alternatively one rejects the Null if p-val $< \\alpha$.\n",
    "\n",
    "Back to the casino example, assume the following empirical data:\n",
    "\n",
    "$\\bar{x} = 3.8, n = 100, \\hat{\\sigma} = 1.7$\n",
    "\n",
    "$H_0: \\mu = 3.5$, $H_A: \\mu \\neq 3.5$, $\\alpha = 0.01$"
   ]
  },
  {
   "cell_type": "code",
   "execution_count": 8,
   "metadata": {},
   "outputs": [
    {
     "name": "stdout",
     "output_type": "stream",
     "text": [
      "two-sided cv:  2.5758293035489004\n",
      "one-sided cv:  2.3263478740408408\n"
     ]
    }
   ],
   "source": [
    "from scipy.stats import norm\n",
    "# that is the critical value that we compare our test statistic with\n",
    "print('two-sided cv: ',norm.ppf(1-0.01/2)) # returns the norm score\n",
    "print('one-sided cv: ',norm.ppf(1-0.01))"
   ]
  },
  {
   "cell_type": "markdown",
   "metadata": {},
   "source": [
    "-------\n",
    "**Two sided test!**"
   ]
  },
  {
   "cell_type": "code",
   "execution_count": 9,
   "metadata": {},
   "outputs": [
    {
     "name": "stdout",
     "output_type": "stream",
     "text": [
      "The test statistic t = 2.496 is not larger than the critical value 2.576 so we fail to reject the Null\n"
     ]
    },
    {
     "data": {
      "text/plain": [
       "0.840131867824506"
      ]
     },
     "execution_count": 9,
     "metadata": {},
     "output_type": "execute_result"
    }
   ],
   "source": [
    "# We care about both sides since we do not know how the casino is using the biased dice.\n",
    "a=0.01\n",
    "n=200\n",
    "\n",
    "critValue = norm.ppf(1-a/2)\n",
    "z = np.abs((3.8-3.5)/(1.7/np.sqrt(n))) \n",
    "\n",
    "if (z < critValue):\n",
    "    s = \"not\"\n",
    "    s2 = \"fail to\"\n",
    "else:\n",
    "    s = \"\"   \n",
    "    s2 = \"\"\n",
    "    \n",
    "print(\"The test statistic t =\", np.round(z,3), \"is\", s ,\"larger than the critical value\",np.round(critValue,3), \"so we\",s2,\"reject the Null\" ) \n",
    "norm.cdf(1-a/2)"
   ]
  },
  {
   "cell_type": "markdown",
   "metadata": {},
   "source": [
    "-----\n",
    "**One sided test!**"
   ]
  },
  {
   "cell_type": "code",
   "execution_count": 10,
   "metadata": {
    "scrolled": true
   },
   "outputs": [
    {
     "name": "stdout",
     "output_type": "stream",
     "text": [
      "The test statistic t = 2.496 is  larger than the critical value 2.326 so we  reject the Null\n"
     ]
    }
   ],
   "source": [
    "# We care only about one side since we do know that the casino makes \n",
    "# money off upward biased dice.\n",
    "\n",
    "critValue = norm.ppf(1-a)\n",
    "z = (3.8-3.5)/(1.7/np.sqrt(n))\n",
    "if (z < critValue):\n",
    "    s = \"not\"\n",
    "    s2 = \"fail to\"\n",
    "else:\n",
    "    s = \"\"   \n",
    "    s2 = \"\"\n",
    "    \n",
    "print(\"The test statistic t =\", np.round(z,3), \"is\", s ,\"larger than the critical value\",np.round(critValue,3), \"so we\",s2,\"reject the Null\" ) \n",
    "#norm.cdf(1-a)"
   ]
  },
  {
   "cell_type": "markdown",
   "metadata": {},
   "source": [
    "------\n",
    "**p-value**"
   ]
  },
  {
   "cell_type": "code",
   "execution_count": 11,
   "metadata": {},
   "outputs": [
    {
     "name": "stdout",
     "output_type": "stream",
     "text": [
      "The p value  0.006 is less than alpha 0.01 so we reject the Null\n"
     ]
    }
   ],
   "source": [
    "#p-value is the right tail probability of values equal or larger than your test statistic\n",
    "pVal = 1-norm.cdf(z)\n",
    "print(\"The p value \", np.round(pVal,3), \"is less than alpha\", a, \"so we reject the Null\")"
   ]
  },
  {
   "cell_type": "markdown",
   "metadata": {},
   "source": [
    "--------\n",
    "### Non parametric Tests\n",
    "\n",
    "Parametric Tests require many assumptions, that may not always be true, and are also a bit abstract. It often helps (i) robustness and (ii) the understanding of the testing process to use simulations instead. \n",
    "We now learn about two different ways of such simulations, each following the basic \"pipeline\":\n",
    "\n",
    "1. Clearly define the Null hypothesis.\n",
    "2. Define the test statistic.\n",
    "3. Generate many sets of simulated data (bootstrap replicates) **assuming the null hypothesis is true**\n",
    "4. Compute the test statistic for each simulated data set\n",
    "5. The p-value is the fraction of your simulated data sets for which the test statistic is at least as extreme as for the real data"
   ]
  },
  {
   "cell_type": "markdown",
   "metadata": {},
   "source": [
    "--------\n",
    "### Bootstrap Hypothesis Tests\n",
    "\n",
    "Besides computing confidence intervals we can also use the bootstrap to perform hypothesis test.\n",
    "We need to \"fake\" the process of drawing new samples again and again under the Null hypothesis, which might appear impossible since our one sample likely will have a sample mean not equal to $\\mu_0$.\n",
    "\n",
    "The trick is to \"shift\" our data such that $\\bar{x} = \\mu_0$!\n",
    "As a test statistic we use the difference of the mean of the bootstrap value minus $\\mu_0$. Notice that there is no need to scale this difference!\n",
    "\n",
    "We illustrate this with our casino example."
   ]
  },
  {
   "cell_type": "code",
   "execution_count": 12,
   "metadata": {},
   "outputs": [
    {
     "data": {
      "text/plain": [
       "array([5, 6, 4, 5, 2, 2, 3, 2, 5, 6, 4, 1, 3, 4, 5, 5, 6, 5, 5, 4])"
      ]
     },
     "execution_count": 12,
     "metadata": {},
     "output_type": "execute_result"
    }
   ],
   "source": [
    "np.random.choice(6,20)+1"
   ]
  },
  {
   "cell_type": "code",
   "execution_count": 30,
   "metadata": {},
   "outputs": [
    {
     "name": "stdout",
     "output_type": "stream",
     "text": [
      "The sample mean is 3.65 , so we shift our data by -0.15\n"
     ]
    }
   ],
   "source": [
    "np.random.seed(123)\n",
    "n=400\n",
    "#x = np.random.choice(6,n,p=[0.14,0.14,0.15,0.18,0.19,0.20])+1 #add a bias\n",
    "x = np.random.choice(6,n)+1 \n",
    "#cheating:\n",
    "x = x + 0.2 #add a bias\n",
    "a=0.01\n",
    "\n",
    "mu0=3.5\n",
    "xBar = np.round(np.mean(x),2)\n",
    "obsDiff = np.round(mu0-xBar,2)\n",
    "print(\"The sample mean is\", xBar, \", so we shift our data by\", obsDiff)"
   ]
  },
  {
   "cell_type": "markdown",
   "metadata": {},
   "source": [
    "------------"
   ]
  },
  {
   "cell_type": "code",
   "execution_count": 25,
   "metadata": {},
   "outputs": [
    {
     "data": {
      "image/png": "[encoded data removed]",
      "text/plain": [
       "<Figure size 432x288 with 1 Axes>"
      ]
     },
     "metadata": {
      "needs_background": "light"
     },
     "output_type": "display_data"
    }
   ],
   "source": [
    "#Alternatively, if we had not shifted our data\n",
    "#TS = bs_mean_dice-xBar\n",
    "\n",
    "#The test statistic\n",
    "bs_mean_dice = draw_bs_reps(x+obsDiff,np.mean,10000)\n",
    "TS = bs_mean_dice-mu0\n",
    "plt.hist(TS);"
   ]
  },
  {
   "cell_type": "code",
   "execution_count": 27,
   "metadata": {},
   "outputs": [
    {
     "name": "stdout",
     "output_type": "stream",
     "text": [
      "The two sided p value of 0.012 is not smaller than alpha= 0.01 so we fail to reject the Null.\n"
     ]
    }
   ],
   "source": [
    "#two sided p value\n",
    "pVal = np.mean( abs(TS) > abs(obsDiff))\n",
    "print(\"The two sided p value of\", np.round(pVal,3), \"is not smaller than alpha=\",a,\"so we fail to reject the Null.\" ) "
   ]
  },
  {
   "cell_type": "markdown",
   "metadata": {},
   "source": [
    "------\n",
    "**Tasks**\n",
    "- Test $H_0: \\mu \\geq 30, H_A: \\mu < 30$ for the mean mpg of 4-cylinder cars\n",
    "    * using bootstrap replicates\n",
    "    * via standard testing theory.\n",
    "- Compute the corresponding **p-values**."
   ]
  },
  {
   "cell_type": "code",
   "execution_count": 16,
   "metadata": {},
   "outputs": [],
   "source": [
    "mu0=30\n",
    "empirical_mean = np.mean(cars4.mpg)"
   ]
  },
  {
   "cell_type": "code",
   "execution_count": 17,
   "metadata": {},
   "outputs": [],
   "source": [
    "#assume the claim is true !!\n",
    "shift = mu0-empirical_mean\n",
    "cars4Shifted= cars4.mpg+shift\n",
    "bs_mean_mpg = draw_bs_reps(cars4Shifted,np.mean,10000)\n",
    "\n",
    "#The test statistic\n",
    "TS = bs_mean_mpg-mu0\n",
    "pVal = np.mean( TS < -shift)"
   ]
  },
  {
   "cell_type": "code",
   "execution_count": 18,
   "metadata": {},
   "outputs": [
    {
     "data": {
      "image/png": "[encoded data removed]",
      "text/plain": [
       "<Figure size 432x288 with 1 Axes>"
      ]
     },
     "metadata": {
      "needs_background": "light"
     },
     "output_type": "display_data"
    }
   ],
   "source": [
    "#assume the claim is true !!\n",
    "shift = mu0-empirical_mean\n",
    "cars4Shifted= cars4.mpg+shift\n",
    "bs_mean_mpg = draw_bs_reps(cars4Shifted,np.mean,10000)\n",
    "\n",
    "#The test statistic\n",
    "TS = bs_mean_mpg-mu0\n",
    "pVal = np.mean( TS < -shift)\n",
    "\n",
    "plt.hist(TS);\n",
    "\n",
    "#np.percentile(bs_mean_mpg,5)\n",
    "#p value is simply the left tail beyond xBar\n",
    "#np.mean(bs_mean_mpg < empirical_mean)"
   ]
  },
  {
   "cell_type": "code",
   "execution_count": 19,
   "metadata": {},
   "outputs": [
    {
     "name": "stdout",
     "output_type": "stream",
     "text": [
      "shift = 0.7160804020100429\n",
      "pValue = 0.0375\n"
     ]
    }
   ],
   "source": [
    "print('shift =',shift)\n",
    "print(\"pValue =\", pVal)"
   ]
  },
  {
   "cell_type": "markdown",
   "metadata": {},
   "source": [
    "---------------------------------------------\n",
    "\n",
    "### From one sample to 2 samples\n",
    "\n",
    "From Auto to birth weights"
   ]
  },
  {
   "cell_type": "code",
   "execution_count": 20,
   "metadata": {},
   "outputs": [],
   "source": [
    "preg=pd.read_hdf('../data/pregNSFG.h5', 'df')\n",
    "#only look at live births\n",
    "firsts = preg[(preg.outcome == 1) & (preg.birthord == 1)]\n",
    "#live[live.babysex == 1].babysex = \"male\"\n",
    "\n",
    "#we reduce the sample size further by conditioning on \n",
    "#the mother's age at the end of pregnancy\n",
    "firsts = firsts[(firsts.agepreg < 30) & (firsts.prglngth >= 30)]\n",
    "bwt = firsts[[\"babysex\",\"totalwgt_lb\"]] \n",
    "\n",
    "bwt.babysex.replace([1.0],\"male\",inplace=True)\n",
    "bwt.babysex.replace([2.0],\"female\",inplace=True)\n",
    "bwt = bwt.dropna()"
   ]
  },
  {
   "cell_type": "code",
   "execution_count": 21,
   "metadata": {},
   "outputs": [
    {
     "name": "stdout",
     "output_type": "stream",
     "text": [
      "shape: (3758, 2)\n"
     ]
    },
    {
     "data": {
      "text/html": [
       "<div>\n",
       "<style scoped>\n",
       "    .dataframe tbody tr th:only-of-type {\n",
       "        vertical-align: middle;\n",
       "    }\n",
       "\n",
       "    .dataframe tbody tr th {\n",
       "        vertical-align: top;\n",
       "    }\n",
       "\n",
       "    .dataframe thead th {\n",
       "        text-align: right;\n",
       "    }\n",
       "</style>\n",
       "<table border=\"1\" class=\"dataframe\">\n",
       "  <thead>\n",
       "    <tr style=\"text-align: right;\">\n",
       "      <th></th>\n",
       "      <th>babysex</th>\n",
       "      <th>totalwgt_lb</th>\n",
       "    </tr>\n",
       "  </thead>\n",
       "  <tbody>\n",
       "    <tr>\n",
       "      <th>2</th>\n",
       "      <td>male</td>\n",
       "      <td>9.1250</td>\n",
       "    </tr>\n",
       "    <tr>\n",
       "      <th>5</th>\n",
       "      <td>male</td>\n",
       "      <td>8.5625</td>\n",
       "    </tr>\n",
       "    <tr>\n",
       "      <th>8</th>\n",
       "      <td>male</td>\n",
       "      <td>7.5625</td>\n",
       "    </tr>\n",
       "    <tr>\n",
       "      <th>10</th>\n",
       "      <td>male</td>\n",
       "      <td>7.8125</td>\n",
       "    </tr>\n",
       "    <tr>\n",
       "      <th>11</th>\n",
       "      <td>female</td>\n",
       "      <td>7.0000</td>\n",
       "    </tr>\n",
       "  </tbody>\n",
       "</table>\n",
       "</div>"
      ],
      "text/plain": [
       "   babysex  totalwgt_lb\n",
       "2     male       9.1250\n",
       "5     male       8.5625\n",
       "8     male       7.5625\n",
       "10    male       7.8125\n",
       "11  female       7.0000"
      ]
     },
     "execution_count": 21,
     "metadata": {},
     "output_type": "execute_result"
    }
   ],
   "source": [
    "print('shape:',bwt.shape)\n",
    "bwt.head()"
   ]
  },
  {
   "cell_type": "code",
   "execution_count": 22,
   "metadata": {},
   "outputs": [
    {
     "data": {
      "text/plain": [
       "babysex\n",
       "female    7.103830\n",
       "male      7.378682\n",
       "Name: totalwgt_lb, dtype: float64"
      ]
     },
     "execution_count": 22,
     "metadata": {},
     "output_type": "execute_result"
    }
   ],
   "source": [
    "grouped = bwt[\"totalwgt_lb\"].groupby(bwt[\"babysex\"])\n",
    "grouped.mean()"
   ]
  },
  {
   "cell_type": "code",
   "execution_count": 23,
   "metadata": {},
   "outputs": [
    {
     "data": {
      "image/png": "[encoded data removed]",
      "text/plain": [
       "<Figure size 432x288 with 1 Axes>"
      ]
     },
     "metadata": {
      "needs_background": "light"
     },
     "output_type": "display_data"
    }
   ],
   "source": [
    "tmp=grouped.plot(kind='density', legend=True);"
   ]
  },
  {
   "cell_type": "markdown",
   "metadata": {},
   "source": [
    "------------\n",
    "### A two-sample bootstrap hypothesis test for difference of means\n",
    "\n",
    "A one sample test compares a data set to one fixed number !\n",
    "\n",
    "We now want to compare two sets of data, both of which are samples! In particular test the hypothesis that male and female babies have the same biological weight (but not necessarily the same distribution). \n",
    "\n",
    "$H_0: \\mu_m = \\mu_f, H_A: \\mu_m \\neq \\mu_f$\n",
    "\n",
    "To do the two-sample bootstrap test, we shift both arrays to have the same mean, since we are simulating the hypothesis that their means are, in fact, equal (**equal to what value ??**). We then draw bootstrap samples out of the shifted arrays and compute the difference in means. This constitutes a bootstrap replicate, and we generate many of them. The p-value is the fraction of replicates with a difference in means greater than or equal to what was observed."
   ]
  },
  {
   "cell_type": "code",
   "execution_count": 24,
   "metadata": {},
   "outputs": [
    {
     "data": {
      "image/png": "[encoded data removed]",
      "text/plain": [
       "<Figure size 432x288 with 1 Axes>"
      ]
     },
     "metadata": {
      "needs_background": "light"
     },
     "output_type": "display_data"
    }
   ],
   "source": [
    "meanNull = np.mean(bwt.totalwgt_lb)# pooled mean\n",
    "w_m = bwt[bwt[\"babysex\"]==\"male\"].totalwgt_lb\n",
    "w_f = bwt[bwt[\"babysex\"]==\"female\"].totalwgt_lb\n",
    "empirical_diff_means = np.mean(w_m)-np.mean(w_f) \n",
    "#shift:\n",
    "\n",
    "w_m_shifted = w_m - np.mean(w_m) + meanNull\n",
    "w_f_shifted = w_f - np.mean(w_f) + meanNull\n",
    "\n",
    "\n",
    "# Compute 10,000 bootstrap replicates from shifted arrays\n",
    "M=1000\n",
    "bs_replicates_m = draw_bs_reps(w_m_shifted, np.mean, M)\n",
    "bs_replicates_f = draw_bs_reps(w_f_shifted, np.mean, M)\n",
    "\n",
    "# Get replicates of difference of means: bs_replicates\n",
    "bs_replicates = bs_replicates_m - bs_replicates_f\n",
    "\n",
    "tmp=plt.hist(bs_replicates)\n",
    "# Compute and print p-value: p"
   ]
  },
  {
   "cell_type": "code",
   "execution_count": 25,
   "metadata": {},
   "outputs": [
    {
     "name": "stdout",
     "output_type": "stream",
     "text": [
      "The one sided p value of 0.0 is much smaller than alpha= 0.01 , so we fail to reject the Null\n",
      "-> The observed difference of  0.275 is exremely unlikely to have occurred by chance alone\n"
     ]
    }
   ],
   "source": [
    "#debugging:\n",
    "if 0:\n",
    "    meanNull\n",
    "    #plt.hist(w_f_shifted)\n",
    "    #plt.hist(bs_replicates_m)\n",
    "    #bs_replicates_m\n",
    "    w_m_bs = np.random.choice(w_m, size=len(w_m))\n",
    "    np.nanmean(w_m_bs)\n",
    "    np.argwhere(np.isnan(w_m_bs))\n",
    "    np.argwhere(np.isnan(w_m))\n",
    "\n",
    "#p-value (one-sided):\n",
    "pVal = np.mean(bs_replicates> empirical_diff_means)\n",
    "#cutoff right tail\n",
    "#np.percentile(bs_replicates, 95)\n",
    "print(\"The one sided p value of\", np.round(pVal,3), \"is much smaller than alpha=\",a,\", so we fail to reject the Null\" ) \n",
    "\n",
    "print(\"-> The observed difference of \", np.round(empirical_diff_means,3), \"is exremely unlikely to have occurred by chance alone\")"
   ]
  }
 ],
 "metadata": {
  "celltoolbar": "Tags",
  "hide_input": false,
  "kernelspec": {
   "display_name": "Python 3.9.0 64-bit",
   "language": "python",
   "name": "python3"
  },
  "language_info": {
   "codemirror_mode": {
    "name": "ipython",
    "version": 3
   },
   "file_extension": ".py",
   "mimetype": "text/x-python",
   "name": "python",
   "nbconvert_exporter": "python",
   "pygments_lexer": "ipython3",
   "version": "3.9.0"
  },
  "varInspector": {
   "cols": {
    "lenName": 16,
    "lenType": 16,
    "lenVar": 40
   },
   "kernels_config": {
    "python": {
     "delete_cmd_postfix": "",
     "delete_cmd_prefix": "del ",
     "library": "var_list.py",
     "varRefreshCmd": "print(var_dic_list())"
    },
    "r": {
     "delete_cmd_postfix": ") ",
     "delete_cmd_prefix": "rm(",
     "library": "var_list.r",
     "varRefreshCmd": "cat(var_dic_list()) "
    }
   },
   "types_to_exclude": [
    "module",
    "function",
    "builtin_function_or_method",
    "instance",
    "_Feature"
   ],
   "window_display": false
  },
  "vscode": {
   "interpreter": {
    "hash": "949777d72b0d2535278d3dc13498b2535136f6dfe0678499012e853ee9abcab1"
   }
  }
 },
 "nbformat": 4,
 "nbformat_minor": 2
}
