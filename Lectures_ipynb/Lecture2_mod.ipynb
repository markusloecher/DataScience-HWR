{
 "cells": [
  {
   "cell_type": "markdown",
   "metadata": {},
   "source": [
    "# Lecture 2"
   ]
  },
  {
   "cell_type": "markdown",
   "metadata": {},
   "source": [
    "**Overview**\n",
    "1. Taking Samples\n",
    "    * Variation of samples \n",
    "    * The $1/\\sqrt{n}$ law\n",
    "2. Distributions\n",
    "    * densities\n",
    "    * ecdfs\n",
    "3. Parametric (\"analytic\") versus nonparametric (\"hacker statistics\")\n",
    "    * Confidence Intervals\n",
    "    * Testing\n",
    "4. Resampling\n",
    "    * Permutations\n",
    "    * Bootstrap"
   ]
  },
  {
   "cell_type": "markdown",
   "metadata": {},
   "source": [
    "**Importing libraries**"
   ]
  },
  {
   "cell_type": "code",
   "execution_count": 1,
   "metadata": {},
   "outputs": [],
   "source": [
    "import numpy as np\n",
    "import matplotlib.pyplot as plt\n",
    "import pandas as pd\n",
    "from numpy import random \n",
    "random.seed(42) #What is this for ???"
   ]
  },
  {
   "cell_type": "markdown",
   "metadata": {},
   "source": [
    "--------\n",
    "**Importing the Birthweights Dataframe**"
   ]
  },
  {
   "cell_type": "code",
   "execution_count": 3,
   "metadata": {},
   "outputs": [
    {
     "data": {
      "text/html": [
       "<div>\n",
       "<style scoped>\n",
       "    .dataframe tbody tr th:only-of-type {\n",
       "        vertical-align: middle;\n",
       "    }\n",
       "\n",
       "    .dataframe tbody tr th {\n",
       "        vertical-align: top;\n",
       "    }\n",
       "\n",
       "    .dataframe thead th {\n",
       "        text-align: right;\n",
       "    }\n",
       "</style>\n",
       "<table border=\"1\" class=\"dataframe\">\n",
       "  <thead>\n",
       "    <tr style=\"text-align: right;\">\n",
       "      <th></th>\n",
       "      <th>sex</th>\n",
       "      <th>dbirwt</th>\n",
       "    </tr>\n",
       "  </thead>\n",
       "  <tbody>\n",
       "    <tr>\n",
       "      <th>0</th>\n",
       "      <td>male</td>\n",
       "      <td>2551</td>\n",
       "    </tr>\n",
       "    <tr>\n",
       "      <th>1</th>\n",
       "      <td>male</td>\n",
       "      <td>2778</td>\n",
       "    </tr>\n",
       "    <tr>\n",
       "      <th>2</th>\n",
       "      <td>female</td>\n",
       "      <td>2976</td>\n",
       "    </tr>\n",
       "    <tr>\n",
       "      <th>3</th>\n",
       "      <td>female</td>\n",
       "      <td>3345</td>\n",
       "    </tr>\n",
       "    <tr>\n",
       "      <th>4</th>\n",
       "      <td>female</td>\n",
       "      <td>3175</td>\n",
       "    </tr>\n",
       "  </tbody>\n",
       "</table>\n",
       "</div>"
      ],
      "text/plain": [
       "      sex  dbirwt\n",
       "0    male    2551\n",
       "1    male    2778\n",
       "2  female    2976\n",
       "3  female    3345\n",
       "4  female    3175"
      ]
     },
     "execution_count": 3,
     "metadata": {},
     "output_type": "execute_result"
    }
   ],
   "source": [
    "df = pd.read_csv(\"https://raw.githubusercontent.com/markusloecher/DataScience-HWR/main/data/BirthWeights.csv\")\n",
    "#df = pd.read_csv('../data/BirthWeights.csv')[[\"sex\", \"dbirwt\"]]\n",
    "df = df[[\"sex\", \"dbirwt\"]]\n",
    "df.head()"
   ]
  },
  {
   "cell_type": "code",
   "execution_count": 4,
   "metadata": {},
   "outputs": [
    {
     "data": {
      "text/html": [
       "<div>\n",
       "<style scoped>\n",
       "    .dataframe tbody tr th:only-of-type {\n",
       "        vertical-align: middle;\n",
       "    }\n",
       "\n",
       "    .dataframe tbody tr th {\n",
       "        vertical-align: top;\n",
       "    }\n",
       "\n",
       "    .dataframe thead th {\n",
       "        text-align: right;\n",
       "    }\n",
       "</style>\n",
       "<table border=\"1\" class=\"dataframe\">\n",
       "  <thead>\n",
       "    <tr style=\"text-align: right;\">\n",
       "      <th></th>\n",
       "      <th>dbirwt</th>\n",
       "    </tr>\n",
       "    <tr>\n",
       "      <th>sex</th>\n",
       "      <th></th>\n",
       "    </tr>\n",
       "  </thead>\n",
       "  <tbody>\n",
       "    <tr>\n",
       "      <th>female</th>\n",
       "      <td>3419.186742</td>\n",
       "    </tr>\n",
       "    <tr>\n",
       "      <th>male</th>\n",
       "      <td>3507.089865</td>\n",
       "    </tr>\n",
       "  </tbody>\n",
       "</table>\n",
       "</div>"
      ],
      "text/plain": [
       "             dbirwt\n",
       "sex                \n",
       "female  3419.186742\n",
       "male    3507.089865"
      ]
     },
     "execution_count": 4,
     "metadata": {},
     "output_type": "execute_result"
    }
   ],
   "source": [
    "df.groupby(\"sex\").mean()\n"
   ]
  },
  {
   "cell_type": "markdown",
   "metadata": {},
   "source": [
    "---------\n",
    "## Operator Overloading\n",
    "\n",
    "The [] operator is overloaded. This means, that depending on the inputs, pandas will do something completely different. Here are the rules for the different objects you pass to just the indexing operator.\n",
    "\n",
    "* string — return a column as a Series\n",
    "* list of strings — return all those columns as a DataFrame\n",
    "* a slice — select rows (can do both label and integer location — confusing!)\n",
    "* a sequence of booleans — select all rows where True\n",
    "\n",
    "In summary, primarily just the indexing operator selects columns, but if you pass it a sequence of booleans it will select all rows that are `True`."
   ]
  },
  {
   "cell_type": "code",
   "execution_count": 6,
   "metadata": {},
   "outputs": [
    {
     "data": {
      "text/html": [
       "<div>\n",
       "<style scoped>\n",
       "    .dataframe tbody tr th:only-of-type {\n",
       "        vertical-align: middle;\n",
       "    }\n",
       "\n",
       "    .dataframe tbody tr th {\n",
       "        vertical-align: top;\n",
       "    }\n",
       "\n",
       "    .dataframe thead th {\n",
       "        text-align: right;\n",
       "    }\n",
       "</style>\n",
       "<table border=\"1\" class=\"dataframe\">\n",
       "  <thead>\n",
       "    <tr style=\"text-align: right;\">\n",
       "      <th></th>\n",
       "      <th>sex</th>\n",
       "      <th>dbirwt</th>\n",
       "    </tr>\n",
       "  </thead>\n",
       "  <tbody>\n",
       "    <tr>\n",
       "      <th>0</th>\n",
       "      <td>male</td>\n",
       "      <td>2551</td>\n",
       "    </tr>\n",
       "    <tr>\n",
       "      <th>1</th>\n",
       "      <td>male</td>\n",
       "      <td>2778</td>\n",
       "    </tr>\n",
       "    <tr>\n",
       "      <th>2</th>\n",
       "      <td>female</td>\n",
       "      <td>2976</td>\n",
       "    </tr>\n",
       "    <tr>\n",
       "      <th>3</th>\n",
       "      <td>female</td>\n",
       "      <td>3345</td>\n",
       "    </tr>\n",
       "    <tr>\n",
       "      <th>4</th>\n",
       "      <td>female</td>\n",
       "      <td>3175</td>\n",
       "    </tr>\n",
       "    <tr>\n",
       "      <th>...</th>\n",
       "      <td>...</td>\n",
       "      <td>...</td>\n",
       "    </tr>\n",
       "    <tr>\n",
       "      <th>4995</th>\n",
       "      <td>male</td>\n",
       "      <td>4405</td>\n",
       "    </tr>\n",
       "    <tr>\n",
       "      <th>4996</th>\n",
       "      <td>male</td>\n",
       "      <td>2764</td>\n",
       "    </tr>\n",
       "    <tr>\n",
       "      <th>4997</th>\n",
       "      <td>female</td>\n",
       "      <td>2776</td>\n",
       "    </tr>\n",
       "    <tr>\n",
       "      <th>4998</th>\n",
       "      <td>female</td>\n",
       "      <td>3615</td>\n",
       "    </tr>\n",
       "    <tr>\n",
       "      <th>4999</th>\n",
       "      <td>male</td>\n",
       "      <td>3379</td>\n",
       "    </tr>\n",
       "  </tbody>\n",
       "</table>\n",
       "<p>4909 rows × 2 columns</p>\n",
       "</div>"
      ],
      "text/plain": [
       "         sex  dbirwt\n",
       "0       male    2551\n",
       "1       male    2778\n",
       "2     female    2976\n",
       "3     female    3345\n",
       "4     female    3175\n",
       "...      ...     ...\n",
       "4995    male    4405\n",
       "4996    male    2764\n",
       "4997  female    2776\n",
       "4998  female    3615\n",
       "4999    male    3379\n",
       "\n",
       "[4909 rows x 2 columns]"
      ]
     },
     "execution_count": 6,
     "metadata": {},
     "output_type": "execute_result"
    }
   ],
   "source": [
    "df = df[(df[ \"dbirwt\"] < 6000) & (df[ \"dbirwt\"] > 2000)] # 2000 < birthweight < 6000\n",
    "df#.head()"
   ]
  },
  {
   "cell_type": "markdown",
   "metadata": {},
   "source": [
    "---------\n",
    "**Boxplot of weight vs. sex**"
   ]
  },
  {
   "cell_type": "code",
   "execution_count": 4,
   "metadata": {},
   "outputs": [
    {
     "data": {
      "text/html": [
       "<div>\n",
       "<style scoped>\n",
       "    .dataframe tbody tr th:only-of-type {\n",
       "        vertical-align: middle;\n",
       "    }\n",
       "\n",
       "    .dataframe tbody tr th {\n",
       "        vertical-align: top;\n",
       "    }\n",
       "\n",
       "    .dataframe thead th {\n",
       "        text-align: right;\n",
       "    }\n",
       "</style>\n",
       "<table border=\"1\" class=\"dataframe\">\n",
       "  <thead>\n",
       "    <tr style=\"text-align: right;\">\n",
       "      <th></th>\n",
       "      <th>dbirwt</th>\n",
       "    </tr>\n",
       "  </thead>\n",
       "  <tbody>\n",
       "    <tr>\n",
       "      <th>count</th>\n",
       "      <td>4909.000000</td>\n",
       "    </tr>\n",
       "    <tr>\n",
       "      <th>mean</th>\n",
       "      <td>3480.557344</td>\n",
       "    </tr>\n",
       "    <tr>\n",
       "      <th>std</th>\n",
       "      <td>529.280103</td>\n",
       "    </tr>\n",
       "    <tr>\n",
       "      <th>min</th>\n",
       "      <td>2012.000000</td>\n",
       "    </tr>\n",
       "    <tr>\n",
       "      <th>25%</th>\n",
       "      <td>3146.000000</td>\n",
       "    </tr>\n",
       "    <tr>\n",
       "      <th>50%</th>\n",
       "      <td>3486.000000</td>\n",
       "    </tr>\n",
       "    <tr>\n",
       "      <th>75%</th>\n",
       "      <td>3827.000000</td>\n",
       "    </tr>\n",
       "    <tr>\n",
       "      <th>max</th>\n",
       "      <td>5981.000000</td>\n",
       "    </tr>\n",
       "  </tbody>\n",
       "</table>\n",
       "</div>"
      ],
      "text/plain": [
       "            dbirwt\n",
       "count  4909.000000\n",
       "mean   3480.557344\n",
       "std     529.280103\n",
       "min    2012.000000\n",
       "25%    3146.000000\n",
       "50%    3486.000000\n",
       "75%    3827.000000\n",
       "max    5981.000000"
      ]
     },
     "execution_count": 4,
     "metadata": {},
     "output_type": "execute_result"
    }
   ],
   "source": [
    "df.describe()"
   ]
  },
  {
   "cell_type": "code",
   "execution_count": 5,
   "metadata": {},
   "outputs": [
    {
     "data": {
      "image/png": "[encoded data removed]",
      "text/plain": [
       "<Figure size 432x288 with 1 Axes>"
      ]
     },
     "metadata": {
      "needs_background": "light"
     },
     "output_type": "display_data"
    }
   ],
   "source": [
    "tmp=df.boxplot( \"dbirwt\",\"sex\")\n",
    "plt.tight_layout()"
   ]
  },
  {
   "cell_type": "markdown",
   "metadata": {},
   "source": [
    "---------\n",
    "**We notice a small difference in the average weight, which is more clearly visible when we plot overlaying densities for male/female**"
   ]
  },
  {
   "cell_type": "code",
   "execution_count": 6,
   "metadata": {},
   "outputs": [
    {
     "name": "stdout",
     "output_type": "stream",
     "text": [
      "        dbirwt\n",
      "sex           \n",
      "female  3427.0\n",
      "male    3533.0 \n",
      "\n",
      "mean:  dbirwt    3480.0\n",
      "dtype: float64\n"
     ]
    }
   ],
   "source": [
    "bwghtBySex = np.round(df[[\"dbirwt\",\"sex\"]].groupby(\"sex\")[[\"dbirwt\"]].mean())\n",
    "\n",
    "print(bwghtBySex, '\\n')\n",
    "print('mean: ',bwghtBySex.mean())"
   ]
  },
  {
   "cell_type": "code",
   "execution_count": 7,
   "metadata": {},
   "outputs": [
    {
     "data": {
      "image/png": "[encoded data removed]",
      "text/plain": [
       "<Figure size 432x288 with 1 Axes>"
      ]
     },
     "metadata": {
      "needs_background": "light"
     },
     "output_type": "display_data"
    }
   ],
   "source": [
    "tmp=df[[\"dbirwt\",\"sex\"]].groupby(\"sex\")[\"dbirwt\"].plot(kind='density', legend=True)"
   ]
  },
  {
   "cell_type": "markdown",
   "metadata": {},
   "source": [
    "-----------\n",
    "## A/B Testing\n",
    "\n",
    "Let us hypothesize that one wanted to classify babies into male/female solely based on their weight. What would its accuracy be if we applied the following simple rule:\n",
    "\n",
    "if dbirwt > 3480 y = male else y = female\n",
    "\n",
    "This would be the equivalent of testing for global warming by measuring the temperature on **one** day. We all know that it took a long time (= many samples) to reliably detect a small difference like 0.5 degrees buried in the noise. Let us apply the same idea here. Maybe we can build a high-accuracy classifier if we weighed enough babies separately for each sex."
   ]
  },
  {
   "cell_type": "markdown",
   "metadata": {},
   "source": [
    "----------\n",
    "**Confusion Matrix for simple classifier**"
   ]
  },
  {
   "cell_type": "code",
   "execution_count": 6,
   "metadata": {},
   "outputs": [
    {
     "data": {
      "text/html": [
       "<div>\n",
       "<style scoped>\n",
       "    .dataframe tbody tr th:only-of-type {\n",
       "        vertical-align: middle;\n",
       "    }\n",
       "\n",
       "    .dataframe tbody tr th {\n",
       "        vertical-align: top;\n",
       "    }\n",
       "\n",
       "    .dataframe thead th {\n",
       "        text-align: right;\n",
       "    }\n",
       "</style>\n",
       "<table border=\"1\" class=\"dataframe\">\n",
       "  <thead>\n",
       "    <tr style=\"text-align: right;\">\n",
       "      <th>sex</th>\n",
       "      <th>female</th>\n",
       "      <th>male</th>\n",
       "    </tr>\n",
       "    <tr>\n",
       "      <th>predMale</th>\n",
       "      <th></th>\n",
       "      <th></th>\n",
       "    </tr>\n",
       "  </thead>\n",
       "  <tbody>\n",
       "    <tr>\n",
       "      <th>False</th>\n",
       "      <td>1331</td>\n",
       "      <td>1105</td>\n",
       "    </tr>\n",
       "    <tr>\n",
       "      <th>True</th>\n",
       "      <td>1100</td>\n",
       "      <td>1373</td>\n",
       "    </tr>\n",
       "  </tbody>\n",
       "</table>\n",
       "</div>"
      ],
      "text/plain": [
       "sex       female  male\n",
       "predMale              \n",
       "False       1331  1105\n",
       "True        1100  1373"
      ]
     },
     "execution_count": 6,
     "metadata": {},
     "output_type": "execute_result"
    }
   ],
   "source": [
    "df[\"predMale\"] = (df[\"dbirwt\"] > 3480)\n",
    "ConfMat = pd.crosstab(df[\"predMale\"], df[\"sex\"])\n",
    "ConfMat"
   ]
  },
  {
   "cell_type": "code",
   "execution_count": 7,
   "metadata": {},
   "outputs": [
    {
     "name": "stdout",
     "output_type": "stream",
     "text": [
      "Accuracy of lame classifier: 0.551\n"
     ]
    }
   ],
   "source": [
    "N = np.sum(ConfMat.values)\n",
    "acc1 = np.round( (ConfMat.values[0,0]+ConfMat.values[1,1]) / N, 3)\n",
    "\n",
    "#Acc0 = (1331+1373)/5000\n",
    "print(\"Accuracy of lame classifier:\", acc1)\n",
    "#Think about the baseline accuracy"
   ]
  },
  {
   "cell_type": "markdown",
   "metadata": {},
   "source": [
    "--------------\n",
    "## Distributions"
   ]
  },
  {
   "cell_type": "markdown",
   "metadata": {},
   "source": [
    "### Mean Density Comparison Function\n",
    "\n",
    "**Write a function which:**\n",
    "\n",
    "1. draws repeated (e.g. M=500) random samples of size n (e.g. 40, 640) from each sex from the data\n",
    "2. Computes the stdevs for the sample means of each sex separately\n",
    "3. Repeats the above density plot for the sample mean distributions\n",
    "4. computes the confusion matrix/accuracy of a classifier that applies the rule $\\bar{x} > 3480$.\n",
    "\n",
    "`Hint:\n",
    "np.random.choice(df[\"dbirwt\"],2)`"
   ]
  },
  {
   "cell_type": "code",
   "execution_count": 7,
   "metadata": {
    "code_folding": []
   },
   "outputs": [],
   "source": [
    "def mean_density_comparison(df_cleaned, M=500, n=10):\n",
    "    \n",
    "    #Generate a sex iteration array\n",
    "    sex_iter = ['male', 'female']\n",
    "    \n",
    "    #Create an empty DataFrame with 'sex' and 'dbirwt' column\n",
    "    columns = ['sex', 'dbirwt']\n",
    "    df_new = pd.DataFrame(columns=columns)\n",
    "    \n",
    "    #Create an empty array to store the standard deviation of the differnt sex 'male' = std_dev[0], 'female' = std_dev[1]\n",
    "    std_dev = np.empty(2)\n",
    "    \n",
    "    #Iterate over sex and create a specific data subset\n",
    "    for ind,v in enumerate(sex_iter):\n",
    "        subset = df_cleaned[df_cleaned.sex == v]\n",
    "        \n",
    "        #create M random sample means of n samples and add it to df_new\n",
    "        for i in range(M):\n",
    "            rand_samples = np.random.choice(subset.dbirwt, n)\n",
    "            x = np.mean(rand_samples)#sample mean per sex\n",
    "            df_new.loc[len(df_new)+1] = [v, x]\n",
    "        \n",
    "        #plot male and female data and calculate the standard deviation of the data\n",
    "        plot_data = df_new[df_new.sex == v]\n",
    "        std_dev[ind] = np.std(plot_data['dbirwt'])  \n",
    "        \n",
    "        plot_data.dbirwt.plot.density()\n",
    "        plt.xlabel('dbirwt')\n",
    "        plt.legend(sex_iter)\n",
    "\t\t#plt.grid()\n",
    "\t\t#plt.title(\"n=\" + str(n))\n",
    "\t\t\n",
    "    #return the sample mean data\n",
    "    return df_new\n",
    " \n",
    "        "
   ]
  },
  {
   "cell_type": "markdown",
   "metadata": {},
   "source": [
    "------------\n",
    "**Testing the Function**"
   ]
  },
  {
   "cell_type": "code",
   "execution_count": 10,
   "metadata": {},
   "outputs": [
    {
     "data": {
      "image/png": "[encoded data removed]",
      "text/plain": [
       "<Figure size 432x288 with 1 Axes>"
      ]
     },
     "metadata": {
      "needs_background": "light"
     },
     "output_type": "display_data"
    }
   ],
   "source": [
    "SM10 = mean_density_comparison(df, M=500, n=10)\n",
    "SM640 = mean_density_comparison(df, M=500, n=640)"
   ]
  },
  {
   "cell_type": "code",
   "execution_count": 11,
   "metadata": {},
   "outputs": [
    {
     "data": {
      "text/html": [
       "<div>\n",
       "<style scoped>\n",
       "    .dataframe tbody tr th:only-of-type {\n",
       "        vertical-align: middle;\n",
       "    }\n",
       "\n",
       "    .dataframe tbody tr th {\n",
       "        vertical-align: top;\n",
       "    }\n",
       "\n",
       "    .dataframe thead th {\n",
       "        text-align: right;\n",
       "    }\n",
       "</style>\n",
       "<table border=\"1\" class=\"dataframe\">\n",
       "  <thead>\n",
       "    <tr style=\"text-align: right;\">\n",
       "      <th>sex</th>\n",
       "      <th>female</th>\n",
       "      <th>male</th>\n",
       "    </tr>\n",
       "    <tr>\n",
       "      <th>predMale</th>\n",
       "      <th></th>\n",
       "      <th></th>\n",
       "    </tr>\n",
       "  </thead>\n",
       "  <tbody>\n",
       "    <tr>\n",
       "      <th>False</th>\n",
       "      <td>320</td>\n",
       "      <td>182</td>\n",
       "    </tr>\n",
       "    <tr>\n",
       "      <th>True</th>\n",
       "      <td>180</td>\n",
       "      <td>318</td>\n",
       "    </tr>\n",
       "  </tbody>\n",
       "</table>\n",
       "</div>"
      ],
      "text/plain": [
       "sex       female  male\n",
       "predMale              \n",
       "False        320   182\n",
       "True         180   318"
      ]
     },
     "execution_count": 11,
     "metadata": {},
     "output_type": "execute_result"
    }
   ],
   "source": [
    "SM10[\"predMale\"] = (SM10[\"dbirwt\"] > 3480)\n",
    "ConfMat10 = pd.crosstab(SM10[\"predMale\"], SM10[\"sex\"])\n",
    "ConfMat10"
   ]
  },
  {
   "cell_type": "code",
   "execution_count": 12,
   "metadata": {},
   "outputs": [
    {
     "data": {
      "text/html": [
       "<div>\n",
       "<style scoped>\n",
       "    .dataframe tbody tr th:only-of-type {\n",
       "        vertical-align: middle;\n",
       "    }\n",
       "\n",
       "    .dataframe tbody tr th {\n",
       "        vertical-align: top;\n",
       "    }\n",
       "\n",
       "    .dataframe thead th {\n",
       "        text-align: right;\n",
       "    }\n",
       "</style>\n",
       "<table border=\"1\" class=\"dataframe\">\n",
       "  <thead>\n",
       "    <tr style=\"text-align: right;\">\n",
       "      <th>sex</th>\n",
       "      <th>female</th>\n",
       "      <th>male</th>\n",
       "    </tr>\n",
       "    <tr>\n",
       "      <th>predMale</th>\n",
       "      <th></th>\n",
       "      <th></th>\n",
       "    </tr>\n",
       "  </thead>\n",
       "  <tbody>\n",
       "    <tr>\n",
       "      <th>False</th>\n",
       "      <td>498</td>\n",
       "      <td>0</td>\n",
       "    </tr>\n",
       "    <tr>\n",
       "      <th>True</th>\n",
       "      <td>2</td>\n",
       "      <td>500</td>\n",
       "    </tr>\n",
       "  </tbody>\n",
       "</table>\n",
       "</div>"
      ],
      "text/plain": [
       "sex       female  male\n",
       "predMale              \n",
       "False        498     0\n",
       "True           2   500"
      ]
     },
     "execution_count": 12,
     "metadata": {},
     "output_type": "execute_result"
    }
   ],
   "source": [
    "SM640[\"predMale\"] = (SM640[\"dbirwt\"] > 3480)\n",
    "ConfMat640 = pd.crosstab(SM640[\"predMale\"], SM640[\"sex\"])\n",
    "ConfMat640"
   ]
  },
  {
   "cell_type": "code",
   "execution_count": 12,
   "metadata": {},
   "outputs": [
    {
     "name": "stdout",
     "output_type": "stream",
     "text": [
      "n=640, means: sex\n",
      "female    3427.276397\n",
      "male      3533.081803\n",
      "Name: dbirwt, dtype: float64\n",
      "\n",
      "n=640, SESMs: sex\n",
      "female    20.937106\n",
      "male      19.819436\n",
      "Name: dbirwt, dtype: float64\n"
     ]
    }
   ],
   "source": [
    "grouped640 = SM640[\"dbirwt\"].groupby(SM640[\"sex\"])\n",
    "\n",
    "print(\"n=640, means:\", grouped640.mean())\n",
    "print()\n",
    "print(\"n=640, SESMs:\", grouped640.std())"
   ]
  },
  {
   "cell_type": "code",
   "execution_count": 13,
   "metadata": {},
   "outputs": [
    {
     "data": {
      "image/png": "[encoded data removed]",
      "text/plain": [
       "<Figure size 432x288 with 1 Axes>"
      ]
     },
     "metadata": {
      "needs_background": "light"
     },
     "output_type": "display_data"
    }
   ],
   "source": [
    "SM40 = mean_density_comparison(df, M=500, n=40)"
   ]
  },
  {
   "cell_type": "code",
   "execution_count": 14,
   "metadata": {
    "scrolled": false
   },
   "outputs": [
    {
     "name": "stdout",
     "output_type": "stream",
     "text": [
      "n=40, means: sex\n",
      "female    3423.30740\n",
      "male      3527.34015\n",
      "Name: dbirwt, dtype: float64\n",
      "\n",
      "n=40, SESMs: sex\n",
      "female    82.787145\n",
      "male      84.921927\n",
      "Name: dbirwt, dtype: float64\n"
     ]
    }
   ],
   "source": [
    "grouped40 = SM40[\"dbirwt\"].groupby(SM40[\"sex\"])\n",
    "\n",
    "print(\"n=40, means:\", grouped40.mean())\n",
    "print()\n",
    "print(\"n=40, SESMs:\", grouped40.std())"
   ]
  },
  {
   "cell_type": "markdown",
   "metadata": {},
   "source": [
    "How much smaller is $\\sigma_{\\bar{x},640}$ than $\\sigma_{\\bar{x},40}$ ?\n",
    "Compare that factor to the ratio of the sample sizes $640/40 = 16$"
   ]
  },
  {
   "cell_type": "markdown",
   "metadata": {},
   "source": [
    "----------\n",
    "### Empirical Cumulative Distribution Function"
   ]
  },
  {
   "cell_type": "markdown",
   "metadata": {},
   "source": [
    "The density -like a histogram- has a few complications that include the arbitrary choice of bin width (kernel width for density) and the loss of information. Welcome to the *empirical cumulative distribution function* **ecdf**"
   ]
  },
  {
   "cell_type": "markdown",
   "metadata": {},
   "source": [
    "-------\n",
    "**ECDF Function**"
   ]
  },
  {
   "cell_type": "code",
   "execution_count": 15,
   "metadata": {},
   "outputs": [],
   "source": [
    "def ecdf(data):\n",
    "    \"\"\"Compute ECDF for a one-dimensional array of measurements.\"\"\"\n",
    "\n",
    "    # Number of data points: n\n",
    "    n = len(data)\n",
    "\n",
    "    # x-data for the ECDF: x\n",
    "    x = np.sort(data)\n",
    "\n",
    "    # y-data for the ECDF: y\n",
    "    y = np.arange(1, n+1) / n\n",
    "\n",
    "    return x, y"
   ]
  },
  {
   "cell_type": "markdown",
   "metadata": {},
   "source": [
    "---------\n",
    "**ECDF Plot**"
   ]
  },
  {
   "cell_type": "code",
   "execution_count": 16,
   "metadata": {},
   "outputs": [
    {
     "data": {
      "image/png": "[encoded data removed]",
      "text/plain": [
       "<Figure size 432x288 with 1 Axes>"
      ]
     },
     "metadata": {
      "needs_background": "light"
     },
     "output_type": "display_data"
    }
   ],
   "source": [
    "# Compute ECDF for sample size 40: m_40, f_40\n",
    "male40 = SM40[SM40.sex == \"male\"][\"dbirwt\"]\n",
    "female40 = SM40[SM40.sex == \"female\"][\"dbirwt\"]\n",
    "\n",
    "mx_40, my_40 = ecdf(male40)\n",
    "fx_40, fy_40 = ecdf(female40)\n",
    "\n",
    "# Plot all ECDFs on the same plot\n",
    "fig, ax = plt.subplots()\n",
    "_ = ax.plot(mx_40, my_40, marker = '.', linestyle = 'none')\n",
    "_ = ax.plot(fx_40, fy_40, marker = '.', linestyle = 'none')\n",
    "\n",
    "# Make nice margins\n",
    "plt.margins(0.02)\n",
    "\n",
    "# Annotate the plot\n",
    "plt.legend(('male', 'female'), loc='lower right')\n",
    "_ = plt.xlabel('birth weight(g)')\n",
    "_ = plt.ylabel('ECDF')\n",
    "\n",
    "# Display the plot\n",
    "plt.grid()\n",
    "plt.show()"
   ]
  },
  {
   "cell_type": "markdown",
   "metadata": {},
   "source": [
    "--------------------------------------------------------------\n",
    "- What is the relationship to quantiles/percentiles ?\n",
    "- Find the IQR !\n",
    "- Sketch the densities just from the ecdf."
   ]
  },
  {
   "cell_type": "markdown",
   "metadata": {},
   "source": [
    "----------\n",
    "### Checking Normality of sample mean distribution"
   ]
  },
  {
   "cell_type": "code",
   "execution_count": 17,
   "metadata": {},
   "outputs": [
    {
     "data": {
      "image/png": "[encoded data removed]",
      "text/plain": [
       "<Figure size 432x288 with 1 Axes>"
      ]
     },
     "metadata": {
      "needs_background": "light"
     },
     "output_type": "display_data"
    }
   ],
   "source": [
    "# Compute mean and standard deviation: mu, sigma\n",
    "mu = np.mean(male40)\n",
    "sigma = np.std(male40)\n",
    "\n",
    "# Sample out of a normal distribution with this mu and sigma: samples\n",
    "samples = np.random.normal(mu, sigma, 10000)\n",
    "\n",
    "# Get the CDF of the samples and of the data\n",
    "x_theor, y_theor = ecdf(samples)\n",
    "\n",
    "# Plot the CDFs and show the plot\n",
    "_ = plt.plot(mx_40, my_40, marker='.', linestyle='none')\n",
    "_ = plt.plot(x_theor, y_theor)\n",
    "\n",
    "plt.margins(0.02)\n",
    "_ = plt.xlabel('birth weight (g)')\n",
    "_ = plt.ylabel('CDF')\n",
    "_ = plt.title('CDF of Birthweight')\n",
    "\n",
    "plt.grid()\n",
    "plt.show()"
   ]
  },
  {
   "cell_type": "markdown",
   "metadata": {},
   "source": [
    "**Tasks**\n",
    "1. Find the \"5% tails\" which are just the (0.05, 0.95) quantiles \n",
    "2. Read up on theoretical quantiles: https://docs.scipy.org/doc/scipy/reference/generated/scipy.stats.norm.html#scipy.stats.norm\n",
    "3. stone age: get the \"5% tails\" from a normal table.\n",
    "4. How many stdevs do you need to cover the 90% sample interval ?\n",
    "5. Can you replace the \"empirical theoretical cdf\" from above with the exact line without sampling 10000 random numbers from a normal distribution ?\n",
    "\n",
    "--------------------------------------------------------------\n",
    "Let us recap what we observed when sampling from a \"population\": The *sample mean distribution* gets narrower with increasing sample size n, SESM =$\\sigma_{\\bar{x}} = \\sigma/\\sqrt{n}$.\n",
    "Take a look at this [interactive applet](http://onlinestatbook.com/stat_sim/sampling_dist/) for further understanding.\n",
    "\n",
    "How is this useful ? And how is it relevant because in reality we would only have **one sample**, not hundreds !\n",
    "\n",
    "**Small Tasks**\n",
    "\n",
    "1. Choose one random sample of size n=40 from the male babies and compute $\\bar{x}$, $\\hat{\\sigma}$. Assume all that is known to you, are these two *summary statistics*. In particular, we do **not know** the true mean $\\mu$!\n",
    "2. Argue intuitively with the ecdf plot about plausible values of $\\mu$.\n",
    "3. More precisely: what interval around $\\bar{x}$ would contain $\\mu$ with 90% probability ?"
   ]
  },
  {
   "cell_type": "markdown",
   "metadata": {},
   "source": [
    "----\n",
    "## Hacker Statistic\n",
    "\n",
    "The ability to draw new samples from a population with a known mean is a luxury that we usually do not have. Is there any way to \"fake\" new samples using just the one \"lousy\" sample we have at hand ? \n",
    "This might sound like an impossible feat analogously to \"pulling yourself up by your own **bootstraps**\"!\n",
    "\n",
    "![BootstrapIlustration](../figures/DC_bootstrap_animated.gif  \"segment\")\n",
    "\n",
    "But that is exactly what we will try now:\n",
    "\n",
    "**Tasks**\n",
    "1. Look up the help for [np.random.choice()](https://docs.scipy.org/doc/numpy15.0/reference/generated/numpy.random.choice.html)\n",
    "<br>\n",
    "2. Draw repeated samples of size n=40 from the sample above.\n",
    "3. Compute the mean of each sample and store it an array.\n",
    "4. Plot the histogram\n",
    "5. Compute the stdev of this distribution and compare to the SEM.\n",
    "<br>\n",
    "6. Write a function that computes *bootstrap replicates* of the mean from a sample.\n",
    "7. Generalize this function to accept any summary statistic, not just the mean."
   ]
  },
  {
   "cell_type": "markdown",
   "metadata": {},
   "source": [
    "-----\n",
    "2. Draw repeated samples of size n=40 from the sample above.\n",
    "3. Compute the mean of each sample and store it an array.\n",
    "4. Plot the histogram\n",
    "5. Compute the stdev of this distribution and compare to the SEM."
   ]
  },
  {
   "cell_type": "code",
   "execution_count": 13,
   "metadata": {},
   "outputs": [],
   "source": [
    "def draw_bs_reps_mean(data, size=100):\n",
    "    \"\"\"Draw bootstrap replicates.\"\"\"\n",
    "\n",
    "    # Initialize array of replicates: bs_replicates\n",
    "    bs_replicates = np.empty(size)\n",
    "\n",
    "    # Generate replicates\n",
    "    for i in range(size):\n",
    "        bs_replicates[i] = np.mean(np.random.choice(data, size=len(data)))\n",
    "\n",
    "    return bs_replicates"
   ]
  },
  {
   "cell_type": "markdown",
   "metadata": {},
   "source": [
    "-----\n",
    "4. Plot the histogram\n",
    "5. Compute the stdev of this distribution and compare to the SEM."
   ]
  },
  {
   "cell_type": "code",
   "execution_count": 19,
   "metadata": {},
   "outputs": [
    {
     "name": "stdout",
     "output_type": "stream",
     "text": [
      "STDEV: 21.66460863574146\n"
     ]
    },
    {
     "data": {
      "image/png": "[encoded data removed]",
      "text/plain": [
       "<Figure size 432x288 with 1 Axes>"
      ]
     },
     "metadata": {
      "needs_background": "light"
     },
     "output_type": "display_data"
    }
   ],
   "source": [
    "samples = df[\"dbirwt\"][0:400]\n",
    "\n",
    "data = draw_bs_reps_mean(data=samples, size=40)\n",
    "plt.hist(x=data);\n",
    "print(f\"STDEV: {np.std(data)}\")\n"
   ]
  },
  {
   "cell_type": "markdown",
   "metadata": {},
   "source": [
    "-----\n",
    "6. Write a function that computes *bootstrap replicates* of the mean from a sample.\n",
    "7. Generalize this function to accept any summary statistic, not just the mean."
   ]
  },
  {
   "cell_type": "code",
   "execution_count": 20,
   "metadata": {},
   "outputs": [],
   "source": [
    "def bootstrap_replicate_1d(data, func):\n",
    "    return func(np.random.choice(data, size=len(data)))\n",
    "\n",
    "def draw_bs_reps(data, func = np.mean, size=100):\n",
    "    \"\"\"Draw bootstrap replicates.\"\"\"\n",
    "\n",
    "    # Initialize array of replicates: bs_replicates\n",
    "    bs_replicates = np.empty(size)\n",
    "\n",
    "    # Generate replicates\n",
    "    for i in range(size):\n",
    "        bs_replicates[i] = bootstrap_replicate_1d(data, func)\n",
    "\n",
    "    return bs_replicates"
   ]
  },
  {
   "cell_type": "code",
   "execution_count": 21,
   "metadata": {},
   "outputs": [
    {
     "data": {
      "text/plain": [
       "array([3798, 3515, 2919, 4110, 3769, 2636, 4172, 3118, 2636, 3600, 3260,\n",
       "       2948, 2749, 3713, 3486, 4280, 4253, 2998, 2863, 3260, 3273, 4409,\n",
       "       3345, 4139, 2352, 3572, 4053, 3515, 3572, 3968, 3260, 4689, 3781,\n",
       "       2948, 2494, 2948, 3430, 2296, 3969, 3883])"
      ]
     },
     "execution_count": 21,
     "metadata": {},
     "output_type": "execute_result"
    }
   ],
   "source": [
    "subset = df[df.sex == \"male\"]\n",
    "rand_samples_40 = np.random.choice(subset.dbirwt, 40)\n",
    "xBar = np.mean(rand_samples_40)\n",
    "rand_samples_40"
   ]
  },
  {
   "cell_type": "code",
   "execution_count": 22,
   "metadata": {},
   "outputs": [],
   "source": [
    "# Take 1,000 bootstrap replicates of the mean: bs_replicates\n",
    "bs_replicates = draw_bs_reps(rand_samples_40, np.mean, size=1000)"
   ]
  },
  {
   "cell_type": "code",
   "execution_count": 23,
   "metadata": {},
   "outputs": [
    {
     "data": {
      "text/plain": [
       "array([3536.425, 3361.85 , 3587.775, 3257.925, 3533.35 , 3520.325,\n",
       "       3520.275, 3314.375, 3389.275, 3520.75 ])"
      ]
     },
     "execution_count": 23,
     "metadata": {},
     "output_type": "execute_result"
    }
   ],
   "source": [
    "bs_replicates[0:10]"
   ]
  },
  {
   "cell_type": "code",
   "execution_count": 24,
   "metadata": {},
   "outputs": [
    {
     "data": {
      "image/png": "[encoded data removed]",
      "text/plain": [
       "<Figure size 432x288 with 1 Axes>"
      ]
     },
     "metadata": {
      "needs_background": "light"
     },
     "output_type": "display_data"
    }
   ],
   "source": [
    "fx_40, fy_40 = ecdf(bs_replicates)\n",
    "\n",
    "# Plot  ECDF\n",
    "_ = plt.plot(fx_40, fy_40, marker = '.', linestyle = 'none')\n",
    "\n",
    "# Make nice margins\n",
    "plt.margins(0.02)\n",
    "\n",
    "# Annotate the plot\n",
    "_ = plt.xlabel('resampled averages of birth weight(g)')\n",
    "_ = plt.ylabel('ECDF')\n",
    "\n",
    "# Display the plot\n",
    "plt.grid()\n",
    "plt.show()"
   ]
  }
 ],
 "metadata": {
  "celltoolbar": "Tags",
  "hide_input": false,
  "kernelspec": {
   "display_name": "Python 3.9.0 64-bit",
   "language": "python",
   "name": "python3"
  },
  "language_info": {
   "codemirror_mode": {
    "name": "ipython",
    "version": 3
   },
   "file_extension": ".py",
   "mimetype": "text/x-python",
   "name": "python",
   "nbconvert_exporter": "python",
   "pygments_lexer": "ipython3",
   "version": "3.9.0"
  },
  "varInspector": {
   "cols": {
    "lenName": 16,
    "lenType": 16,
    "lenVar": 40
   },
   "kernels_config": {
    "python": {
     "delete_cmd_postfix": "",
     "delete_cmd_prefix": "del ",
     "library": "var_list.py",
     "varRefreshCmd": "print(var_dic_list())"
    },
    "r": {
     "delete_cmd_postfix": ") ",
     "delete_cmd_prefix": "rm(",
     "library": "var_list.r",
     "varRefreshCmd": "cat(var_dic_list()) "
    }
   },
   "types_to_exclude": [
    "module",
    "function",
    "builtin_function_or_method",
    "instance",
    "_Feature"
   ],
   "window_display": false
  },
  "vscode": {
   "interpreter": {
    "hash": "949777d72b0d2535278d3dc13498b2535136f6dfe0678499012e853ee9abcab1"
   }
  }
 },
 "nbformat": 4,
 "nbformat_minor": 2
}
